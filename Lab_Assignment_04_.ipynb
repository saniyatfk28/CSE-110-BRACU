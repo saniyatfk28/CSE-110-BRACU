{
  "nbformat": 4,
  "nbformat_minor": 0,
  "metadata": {
    "colab": {
      "provenance": []
    },
    "kernelspec": {
      "name": "python3",
      "display_name": "Python 3"
    },
    "language_info": {
      "name": "python"
    }
  },
  "cells": [
    {
      "cell_type": "code",
      "execution_count": null,
      "metadata": {
        "colab": {
          "base_uri": "https://localhost:8080/"
        },
        "id": "VeBPI_Am0bTY",
        "outputId": "fbd2b95d-13eb-448b-84b1-2cf4f21fa203"
      },
      "outputs": [
        {
          "output_type": "stream",
          "name": "stdout",
          "text": [
            "CSE110\n",
            "011ESC\n"
          ]
        }
      ],
      "source": [
        "word=input(\"\")\n",
        "print(word[::-1])"
      ]
    },
    {
      "cell_type": "code",
      "source": [
        "print(ord('a'),ord('z'),ord(\"A\"),ord(\"Z\"))"
      ],
      "metadata": {
        "colab": {
          "base_uri": "https://localhost:8080/"
        },
        "id": "r-FFjwE-l5uX",
        "outputId": "c3ba295a-aff2-4366-c39e-986549fcfb49"
      },
      "execution_count": null,
      "outputs": [
        {
          "output_type": "stream",
          "name": "stdout",
          "text": [
            "97 122 65 90\n"
          ]
        }
      ]
    },
    {
      "cell_type": "code",
      "source": [
        "num=input(\"\")\n",
        "ind=int(input())\n",
        "f=num[ind::-1]\n",
        "s=num[ind+1:]\n",
        "print(f+s)"
      ],
      "metadata": {
        "colab": {
          "base_uri": "https://localhost:8080/"
        },
        "id": "oTeICb6U01Bm",
        "outputId": "a796b449-a190-4531-8ece-c28b35f81f9a"
      },
      "execution_count": null,
      "outputs": [
        {
          "output_type": "stream",
          "name": "stdout",
          "text": [
            "aBcd1234defg\n",
            "5\n",
            "21dcBa34defg\n"
          ]
        }
      ]
    },
    {
      "cell_type": "code",
      "source": [
        "string='0110110110+_)(1'\n",
        "notbicount=0\n",
        "letterlist1=\"ABCEFGHIJKLMNOPQRSTUVWXYZ\"\n",
        "letterlist2=letterlist1.lower()\n",
        "symbol=\"!@#$%^&*()\"\n",
        "numberlist='23456789'\n",
        "for i in (string):\n",
        "  if (i in letterlist1) or (i in letterlist2) or (i in numberlist) or (i in symbol)   :\n",
        "    notbicount+=1\n",
        "if notbicount >=1:\n",
        "  print('not bi')\n",
        "else:\n",
        "  print('bi')\n",
        "\n",
        "# if bicount==1:\n",
        "#   print(\"Binary Number\")\n",
        "# else:\n",
        "#   print(\"Not a Binary Number\")\n"
      ],
      "metadata": {
        "colab": {
          "base_uri": "https://localhost:8080/"
        },
        "id": "R4wtfcEUGR4o",
        "outputId": "6c9ef4d1-1c4f-4617-c0d1-01a46b417e0e"
      },
      "execution_count": null,
      "outputs": [
        {
          "output_type": "stream",
          "name": "stdout",
          "text": [
            "not bi\n"
          ]
        }
      ]
    },
    {
      "cell_type": "code",
      "source": [
        "string='0110110110+_)(1'\n",
        "notbicount=0\n",
        "for i in (string):\n",
        "  if (32<=ord(i)<=47) or (50<=ord(i)<=126):\n",
        "    notbicount+=1\n",
        "if notbicount >=1:\n",
        "  print('not bi')\n",
        "else:\n",
        "  print('bi')\n",
        "\n",
        "# if bicount==1:\n",
        "#   print(\"Binary Number\")\n",
        "# else:\n",
        "#   print(\"Not a Binary Number\")\n"
      ],
      "metadata": {
        "colab": {
          "base_uri": "https://localhost:8080/"
        },
        "id": "FNl6JWBtjhgN",
        "outputId": "1d4cf60d-63bb-4d07-a7b3-f77e13f579e9"
      },
      "execution_count": null,
      "outputs": [
        {
          "output_type": "stream",
          "name": "stdout",
          "text": [
            "not bi\n"
          ]
        }
      ]
    },
    {
      "cell_type": "code",
      "source": [
        "word=\"Programming\"\n",
        "for i in word:\n",
        "  print(f\"{i} : {ord(i)}\")"
      ],
      "metadata": {
        "colab": {
          "base_uri": "https://localhost:8080/"
        },
        "id": "CjIB944exnAs",
        "outputId": "3cd652a9-ade7-49fb-c8ca-80f68d5c31a0"
      },
      "execution_count": null,
      "outputs": [
        {
          "output_type": "stream",
          "name": "stdout",
          "text": [
            "P : 80\n",
            "r : 114\n",
            "o : 111\n",
            "g : 103\n",
            "r : 114\n",
            "a : 97\n",
            "m : 109\n",
            "m : 109\n",
            "i : 105\n",
            "n : 110\n",
            "g : 103\n"
          ]
        }
      ]
    },
    {
      "cell_type": "code",
      "source": [
        "word = 'abc'\n",
        "if len(word) > 3:\n",
        "    if word[-2:]==\"er\":\n",
        "        word = word[:len(word)-2] + \"est\"\n",
        "    elif word[-3:]==\"est\":\n",
        "        word = word\n",
        "    elif word[-2:]!=\"er\":\n",
        "        word = word + \"er\"\n",
        "\n",
        "else:\n",
        "    word=word\n",
        "\n",
        "print(word)\n"
      ],
      "metadata": {
        "colab": {
          "base_uri": "https://localhost:8080/"
        },
        "id": "OflpZa0FvZgn",
        "outputId": "358017ed-6111-4e72-e0a5-cc78cda7d295"
      },
      "execution_count": null,
      "outputs": [
        {
          "output_type": "stream",
          "name": "stdout",
          "text": [
            "abc\n"
          ]
        }
      ]
    },
    {
      "cell_type": "code",
      "source": [
        "def add_string(str1):\n",
        "  length = len(str1)\n",
        "\n",
        "  if length > 2:\n",
        "    if str1[-3:] == 'er':\n",
        "      str1 += 'ly'\n",
        "    else:\n",
        "      str1 += 'ing'\n",
        "\n",
        "  return str1\n",
        "print(add_string('strong'))\n",
        "print(add_string('stronger'))\n",
        "print(add_string('abc'))"
      ],
      "metadata": {
        "colab": {
          "base_uri": "https://localhost:8080/"
        },
        "id": "fRr3rx_IhjUL",
        "outputId": "bd2b0fd3-8b0b-4e49-9701-81c08c1b693b"
      },
      "execution_count": null,
      "outputs": [
        {
          "output_type": "stream",
          "name": "stdout",
          "text": [
            "stronging\n",
            "strongering\n",
            "abcing\n"
          ]
        }
      ]
    },
    {
      "cell_type": "code",
      "source": [
        "x='strong'\n",
        "print(x[-3:])"
      ],
      "metadata": {
        "colab": {
          "base_uri": "https://localhost:8080/"
        },
        "id": "WA7rGLFrwVB6",
        "outputId": "59cdd934-377f-46a8-866c-9c0ca1ca157f"
      },
      "execution_count": null,
      "outputs": [
        {
          "output_type": "stream",
          "name": "stdout",
          "text": [
            "ong\n"
          ]
        }
      ]
    },
    {
      "cell_type": "code",
      "source": [
        "string=\"stronger\"\n",
        "if len(string)<4:\n",
        "  print(string)\n",
        "elif len(string)>3:\n",
        "  if string.endswith('er'):\n",
        "    print(string[:-2]+'est')\n",
        "  elif string.endswith('est'):\n",
        "    print(string)\n",
        "  else:\n",
        "    print(string+'er')"
      ],
      "metadata": {
        "colab": {
          "base_uri": "https://localhost:8080/"
        },
        "id": "WGBXZpAdutBA",
        "outputId": "a2e1ac87-238b-4fd0-900b-62fcdd94dcb9"
      },
      "execution_count": null,
      "outputs": [
        {
          "output_type": "stream",
          "name": "stdout",
          "text": [
            "strongest\n"
          ]
        }
      ]
    },
    {
      "cell_type": "code",
      "source": [
        "letterlist1=\"ABCEFGHIJKLMNOPQRSTUVWXYZ\"\n",
        "letterlist2=letterlist1.lower()\n",
        "print(letterlist2)"
      ],
      "metadata": {
        "colab": {
          "base_uri": "https://localhost:8080/"
        },
        "id": "7XpAgA87hEsL",
        "outputId": "cf90cb25-c4c7-44f6-e9df-56a17605cce2"
      },
      "execution_count": null,
      "outputs": [
        {
          "output_type": "stream",
          "name": "stdout",
          "text": [
            "abcefghijklmnopqrstuvwxyz\n"
          ]
        }
      ]
    },
    {
      "cell_type": "code",
      "source": [
        "string='bangla'\n",
        "count=0\n",
        "for i in range(len(string)):\n",
        "  for j in range(i + 1, len(string) + 1):\n",
        "      print(string[i:j])\n",
        "  count+=1\n",
        "  if count==1:\n",
        "    break"
      ],
      "metadata": {
        "colab": {
          "base_uri": "https://localhost:8080/"
        },
        "id": "6mGXuKY2DYqE",
        "outputId": "da87292c-e56b-4c3d-d1de-1bc543900508"
      },
      "execution_count": null,
      "outputs": [
        {
          "output_type": "stream",
          "name": "stdout",
          "text": [
            "b\n",
            "ba\n",
            "ban\n",
            "bang\n",
            "bangl\n",
            "bangla\n"
          ]
        }
      ]
    },
    {
      "cell_type": "code",
      "source": [
        "\n",
        "string = input(\"Enter a string: \")\n",
        "new_string = \"\"\n",
        "for r in string:\n",
        "  ascii_value = ord(r) + 1\n",
        "  if ascii_value > 122:\n",
        "    ascii_value = 97\n",
        "  new_char = chr(ascii_value)\n",
        "  new_string += new_char\n",
        "print(new_string)\n",
        "\n",
        "\n",
        "\n"
      ],
      "metadata": {
        "colab": {
          "base_uri": "https://localhost:8080/"
        },
        "id": "a2mMlztQFsq8",
        "outputId": "18a93472-a6b5-46a6-ec43-75956baedd6f"
      },
      "execution_count": null,
      "outputs": [
        {
          "output_type": "stream",
          "name": "stdout",
          "text": [
            "Enter a string: xyzabc\n",
            "yzabcd\n"
          ]
        }
      ]
    },
    {
      "cell_type": "code",
      "source": [
        "new_word=''\n",
        "word='GRAND'\n",
        "for i in range(len(word)):\n",
        "  if i%2==0:\n",
        "    pass\n",
        "  else:\n",
        "    if ord(user[i])>=65 and ord(user[i])<=90:\n",
        "      new_word+=user[i]\n",
        "    else:\n",
        "      convert=chr(ord(user[i])-32)\n",
        "      new_word+=convert\n",
        "print(new_word)"
      ],
      "metadata": {
        "colab": {
          "base_uri": "https://localhost:8080/"
        },
        "id": "ffm2QJDry2lC",
        "outputId": "f36d11a5-2832-4f8f-b63a-7849c2a85be9"
      },
      "execution_count": null,
      "outputs": [
        {
          "output_type": "stream",
          "name": "stdout",
          "text": [
            "TO\n"
          ]
        }
      ]
    },
    {
      "cell_type": "code",
      "source": [
        "word=''\n",
        "string=\"String\"\n",
        "for i in range(len(string)):\n",
        "  if i%2!=0:\n",
        "    if 65<=ord(string[i])<=90:\n",
        "      word+=string[i]\n",
        "    # elif ord(string[i])>=65 and ord(string[i])<=90:\n",
        "    #   word+=string[i]\n",
        "    else:\n",
        "      convert=chr(ord(string[i])-32)\n",
        "      word+=convert\n",
        "print(word)\n"
      ],
      "metadata": {
        "colab": {
          "base_uri": "https://localhost:8080/"
        },
        "id": "A9GTVc6H1DkI",
        "outputId": "24ce5871-ab4f-4893-8f9f-e84adf6e00c0"
      },
      "execution_count": null,
      "outputs": [
        {
          "output_type": "stream",
          "name": "stdout",
          "text": [
            "TIG\n"
          ]
        }
      ]
    },
    {
      "cell_type": "code",
      "source": [
        "user_input = \"Python programming is very easy\"\n",
        "result = \"\"\n",
        "\n",
        "uppercase_flag = True  # Flag to indicate whether the next character should be uppercase or lowercase\n",
        "\n",
        "for char in user_input:\n",
        "    if 'a' <= char <= 'z' or 'A' <= char <= 'Z':  # Check if the character is a letter\n",
        "        if uppercase_flag:\n",
        "            # Convert lowercase letters to uppercase using ASCII values\n",
        "            if 'a' <= char <= 'z':\n",
        "                char = chr(ord(char) - ord('a') + ord('A'))\n",
        "        else:\n",
        "            # Convert uppercase letters to lowercase using ASCII values\n",
        "            if 'A' <= char <= 'Z':\n",
        "                char = chr(ord(char) - ord('A') + ord('a'))\n",
        "\n",
        "        result += char\n",
        "        uppercase_flag = not uppercase_flag  # Flip the flag for the next character\n",
        "    else:\n",
        "        result += char  # Append non-letter characters as they are\n",
        "\n",
        "print(\"Modified String:\", result)\n",
        "\n"
      ],
      "metadata": {
        "colab": {
          "base_uri": "https://localhost:8080/"
        },
        "id": "SuVWUtynKIA6",
        "outputId": "53feb024-abc9-448b-cc22-d12b46925dcf"
      },
      "execution_count": null,
      "outputs": [
        {
          "output_type": "stream",
          "name": "stdout",
          "text": [
            "Modified String: PyThOn PrOgRaMmInG iS vErY eAsY\n"
          ]
        }
      ]
    },
    {
      "cell_type": "code",
      "source": [
        "print(ord('a')-ord('A'))"
      ],
      "metadata": {
        "colab": {
          "base_uri": "https://localhost:8080/"
        },
        "id": "gYpkt12KHa_0",
        "outputId": "3fbf0e21-d154-4aab-a1fd-f85c34528ce1"
      },
      "execution_count": null,
      "outputs": [
        {
          "output_type": "stream",
          "name": "stdout",
          "text": [
            "32\n"
          ]
        }
      ]
    },
    {
      "cell_type": "markdown",
      "source": [],
      "metadata": {
        "id": "cIiJKnDd4pRH"
      }
    },
    {
      "cell_type": "code",
      "source": [
        "def remove_consecutive_duplicates(string):\n",
        "  \"\"\"\n",
        "  Creates a new string with all the consecutive duplicates removed.\n",
        "\n",
        "  Args:\n",
        "    string: The string to remove the duplicates from.\n",
        "\n",
        "  Returns:\n",
        "    The string with the consecutive duplicates removed.\n",
        "  \"\"\"\n",
        "\n",
        "  new_string = \"\"\n",
        "  previous_char = \"\"\n",
        "  for char in string:\n",
        "    if char != previous_char:\n",
        "      new_string += char\n",
        "    previous_char = char\n",
        "  return new_string\n",
        "\n",
        "\n",
        "def main():\n",
        "  \"\"\"\n",
        "  The main function.\n",
        "  \"\"\"\n",
        "\n",
        "  string = input(\"Enter a string: \")\n",
        "  new_string = remove_consecutive_duplicates(string)\n",
        "  print(new_string)\n",
        "\n",
        "\n",
        "if __name__ == \"__main__\":\n",
        "  main()\n"
      ],
      "metadata": {
        "colab": {
          "base_uri": "https://localhost:8080/"
        },
        "id": "TpMl1sN-0vR3",
        "outputId": "cba0394f-3824-45cc-e10c-6bd7f0dc0153"
      },
      "execution_count": null,
      "outputs": [
        {
          "output_type": "stream",
          "name": "stdout",
          "text": [
            "Enter a string: Jupyter Notebook is better. Case sensitivity check AAaaaAaaAAAa.\n",
            "Jupyter Notebok is beter. Case sensitivity check AaAaAa.\n"
          ]
        }
      ]
    },
    {
      "cell_type": "code",
      "source": [
        "string = input(\"Enter a string: \")\n",
        "new_string = \"\"\n",
        "previous_char = \"\"\n",
        "for char in string:\n",
        "   if char != previous_char:\n",
        "     new_string += char\n",
        "   previous_char = char\n",
        "print(new_string)\n"
      ],
      "metadata": {
        "colab": {
          "base_uri": "https://localhost:8080/"
        },
        "id": "Dtl7y8Rv5URc",
        "outputId": "16f078ca-37ec-4b2e-88bb-0f4d53dbe92c"
      },
      "execution_count": null,
      "outputs": [
        {
          "output_type": "stream",
          "name": "stdout",
          "text": [
            "Enter a string: Enter a string: Jupyter Notebook is better. Case sensitivity check AAaaaAaaAAAa.\n",
            "Enter a string: Jupyter Notebok is beter. Case sensitivity check AaAaAa.\n"
          ]
        }
      ]
    },
    {
      "cell_type": "code",
      "source": [
        "word=input('')\n",
        "s1,s2=word.split(\",\")\n",
        "combined = \"\"\n",
        "i = 0\n",
        "j = 0\n",
        "while i < len(s1) and j < len(s2):\n",
        "    combined += s1[i] + s2[j]\n",
        "    i += 1\n",
        "    j += 1\n",
        "\n",
        "combined += s1[i:] + s2[j:]\n",
        "print(combined)\n",
        "#ABCDENDFGH,ijkl"
      ],
      "metadata": {
        "colab": {
          "base_uri": "https://localhost:8080/"
        },
        "id": "8Zbpd9K8Mv1p",
        "outputId": "a4dbe4cd-b91f-4633-9ece-0941a12d50ed"
      },
      "execution_count": null,
      "outputs": [
        {
          "output_type": "stream",
          "name": "stdout",
          "text": [
            "ABCDENDFGH,ijkl\n",
            "AiBjCkDlENDFGH\n"
          ]
        }
      ]
    },
    {
      "cell_type": "code",
      "source": [
        "test = \"\"\n",
        "i = 0\n",
        "j = 0\n",
        "k = 15\n",
        "test = \"-->\"\n",
        "while i < 5:\n",
        "    j = k - 1\n",
        "    k -= 1\n",
        "    while j > 10:\n",
        "        test = str(i + j) + \"-->\" + test\n",
        "        print(test)\n",
        "        j -= 1\n",
        "    i += 1\n",
        "\n"
      ],
      "metadata": {
        "colab": {
          "base_uri": "https://localhost:8080/"
        },
        "id": "7bEr3-wjCFpT",
        "outputId": "060c7f95-3e2f-48c2-c81b-bda6ee39f8ed"
      },
      "execution_count": null,
      "outputs": [
        {
          "output_type": "stream",
          "name": "stdout",
          "text": [
            "14-->-->\n",
            "13-->14-->-->\n",
            "12-->13-->14-->-->\n",
            "11-->12-->13-->14-->-->\n",
            "14-->11-->12-->13-->14-->-->\n",
            "13-->14-->11-->12-->13-->14-->-->\n",
            "12-->13-->14-->11-->12-->13-->14-->-->\n",
            "14-->12-->13-->14-->11-->12-->13-->14-->-->\n",
            "13-->14-->12-->13-->14-->11-->12-->13-->14-->-->\n",
            "14-->13-->14-->12-->13-->14-->11-->12-->13-->14-->-->\n"
          ]
        }
      ]
    },
    {
      "cell_type": "code",
      "source": [
        "test = \"\"\n",
        "i = 5\n",
        "j = 0\n",
        "k = 15\n",
        "while i< 10:\n",
        "    k-=1\n",
        "    j = k\n",
        "    while j > 10:\n",
        "        if (j % 2) == 0:\n",
        "            test = \"<--\"\n",
        "            test = str(test) + str(i) + str(2) + \"-->\" + str(int(j / 2))\n",
        "        else:\n",
        "            test = \"-->\"\n",
        "            test = \"-->\" + str(int(i / 2)) + str(test) + str(j)\n",
        "        print(test)\n",
        "        j = j-1\n",
        "    i+=1\n",
        "\n"
      ],
      "metadata": {
        "colab": {
          "base_uri": "https://localhost:8080/"
        },
        "id": "AS1fr_jmCe39",
        "outputId": "4bee8935-c588-478b-f6ae-08800cbfd62b"
      },
      "execution_count": null,
      "outputs": [
        {
          "output_type": "stream",
          "name": "stdout",
          "text": [
            "<--52-->7\n",
            "-->2-->13\n",
            "<--52-->6\n",
            "-->2-->11\n",
            "-->3-->13\n",
            "<--62-->6\n",
            "-->3-->11\n",
            "<--72-->6\n",
            "-->3-->11\n",
            "-->4-->11\n"
          ]
        }
      ]
    },
    {
      "cell_type": "code",
      "source": [
        "test = \"\"\n",
        "i = 5\n",
        "j = 0\n",
        "k = 15\n",
        "while (i< 10):\n",
        "    k-=1\n",
        "    j = k\n",
        "    while (j > 10 ):\n",
        "        if j % 2 == 0:\n",
        "            test = \"<--\"\n",
        "            test = test + str(i) + '3' + \"-->\" + str(j // 3)\n",
        "        else:\n",
        "            test = \"-->\"\n",
        "            test = \"-->\" + str((i // 3)) + test + str(j)\n",
        "        print(test)\n",
        "        j -=1\n",
        "    i+=1\n",
        "\n"
      ],
      "metadata": {
        "colab": {
          "base_uri": "https://localhost:8080/"
        },
        "id": "2xWT_qBwFKdZ",
        "outputId": "086126cd-d021-4339-97d6-5516fee66292"
      },
      "execution_count": null,
      "outputs": [
        {
          "output_type": "stream",
          "name": "stdout",
          "text": [
            "<--53-->4\n",
            "-->1-->13\n",
            "<--53-->4\n",
            "-->1-->11\n",
            "-->2-->13\n",
            "<--63-->4\n",
            "-->2-->11\n",
            "<--73-->4\n",
            "-->2-->11\n",
            "-->2-->11\n"
          ]
        }
      ]
    },
    {
      "cell_type": "code",
      "source": [
        "i=0\n",
        "j=0\n",
        "k=15\n",
        "test = '<--cat'\n",
        "while i < 5:\n",
        "    k -= 1\n",
        "    j = k\n",
        "    while j > 10:\n",
        "        if j % 2 == 0:\n",
        "            test += '-->'\n",
        "            test = test + str(i) + str(j // 2)\n",
        "        else:\n",
        "            test += '<--'\n",
        "            test = test + str(i // 2) + str(j)\n",
        "        print(test)\n",
        "        j-=1\n",
        "    i+=1\n",
        "\n"
      ],
      "metadata": {
        "id": "MMJbnlPQHrkj",
        "outputId": "30c5b546-3f70-4b82-aeae-3197707b36fe",
        "colab": {
          "base_uri": "https://localhost:8080/"
        }
      },
      "execution_count": null,
      "outputs": [
        {
          "output_type": "stream",
          "name": "stdout",
          "text": [
            "<--cat-->07\n",
            "<--cat-->07<--013\n",
            "<--cat-->07<--013-->06\n",
            "<--cat-->07<--013-->06<--011\n",
            "<--cat-->07<--013-->06<--011<--013\n",
            "<--cat-->07<--013-->06<--011<--013-->16\n",
            "<--cat-->07<--013-->06<--011<--013-->16<--011\n",
            "<--cat-->07<--013-->06<--011<--013-->16<--011-->26\n",
            "<--cat-->07<--013-->06<--011<--013-->16<--011-->26<--111\n",
            "<--cat-->07<--013-->06<--011<--013-->16<--011-->26<--111<--111\n"
          ]
        }
      ]
    }
  ]
}