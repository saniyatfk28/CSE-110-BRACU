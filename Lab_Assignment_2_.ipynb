{
  "nbformat": 4,
  "nbformat_minor": 0,
  "metadata": {
    "colab": {
      "provenance": []
    },
    "kernelspec": {
      "name": "python3",
      "display_name": "Python 3"
    },
    "language_info": {
      "name": "python"
    }
  },
  "cells": [
    {
      "cell_type": "code",
      "execution_count": null,
      "metadata": {
        "colab": {
          "base_uri": "https://localhost:8080/"
        },
        "id": "nc4QrjYgkJ4_",
        "outputId": "b26a40de-1428-47ec-fb22-8e3d75ea00ee"
      },
      "outputs": [
        {
          "output_type": "stream",
          "name": "stdout",
          "text": [
            "4\n",
            "5\n",
            "Sum = 9\n",
            "Product = 20\n",
            "Difference = -1\n"
          ]
        }
      ],
      "source": [
        "#task1\n",
        "a=int(input(''))\n",
        "b=int(input(''))\n",
        "print(f\"Sum = {a+b}\\nProduct = {a*b}\\nDifference = {a-b}\")\n"
      ]
    },
    {
      "cell_type": "code",
      "source": [
        "#task2\n",
        "import math\n",
        "r = float(input(\"\"))\n",
        "Area = math.pi * math.pow(r,2)\n",
        "Circumference = 2 * math.pi * r\n",
        "print(f\"Area is {Area}\\nCircumference is {Circumference}\")"
      ],
      "metadata": {
        "colab": {
          "base_uri": "https://localhost:8080/"
        },
        "id": "-4hTupfYk3un",
        "outputId": "e37a9373-e2cf-4c8c-e8dd-dcd8531b7c3b"
      },
      "execution_count": null,
      "outputs": [
        {
          "output_type": "stream",
          "name": "stdout",
          "text": [
            "3.5\n",
            "Area is 38.48451000647496\n",
            "Area is 21.991148575128552\n"
          ]
        }
      ]
    },
    {
      "cell_type": "code",
      "source": [
        "#task3\n",
        "a=int(input(''))\n",
        "b=int(input(''))\n",
        "if a>b:\n",
        "  print(\"First is greater\")\n",
        "elif a<b:\n",
        "  print(\"Second is greater\")\n",
        "else:\n",
        "  print(\"The numbers are equal\")"
      ],
      "metadata": {
        "colab": {
          "base_uri": "https://localhost:8080/"
        },
        "id": "UbLeFeaWlhjf",
        "outputId": "ebec358d-c29d-4ad8-f158-264a95c15e40"
      },
      "execution_count": null,
      "outputs": [
        {
          "output_type": "stream",
          "name": "stdout",
          "text": [
            "-33\n",
            "-3\n",
            "Second is greater\n"
          ]
        }
      ]
    },
    {
      "cell_type": "code",
      "source": [
        "#task4\n",
        "a=int(input(''))\n",
        "b=int(input(''))\n",
        "if a>b or a==b :\n",
        "  print(a-b)\n",
        "elif a<b:\n",
        "  print(b-a)\n"
      ],
      "metadata": {
        "colab": {
          "base_uri": "https://localhost:8080/"
        },
        "id": "m8wqw7T3mFpa",
        "outputId": "7addfb44-2481-4ab1-c6e7-5e624487d01e"
      },
      "execution_count": null,
      "outputs": [
        {
          "output_type": "stream",
          "name": "stdout",
          "text": [
            "-44\n",
            "-48\n",
            "4\n"
          ]
        }
      ]
    },
    {
      "cell_type": "code",
      "source": [
        "r='''pakhi paka pepe khai '''\n",
        "print(r)"
      ],
      "metadata": {
        "colab": {
          "base_uri": "https://localhost:8080/"
        },
        "id": "vQPn8IDKZLyI",
        "outputId": "89a6794f-4673-44b7-95f2-59b3d9b7ae6d"
      },
      "execution_count": null,
      "outputs": [
        {
          "output_type": "stream",
          "name": "stdout",
          "text": [
            "pakhi paka pepe khai \n"
          ]
        }
      ]
    },
    {
      "cell_type": "code",
      "source": [
        "#task5\n",
        "a=int(input(''))\n",
        "if a%2==0:\n",
        "  print(\"The number is even\")\n",
        "else:\n",
        "  print(\"The number is odd\")\n"
      ],
      "metadata": {
        "colab": {
          "base_uri": "https://localhost:8080/"
        },
        "id": "JqNFORTGmso7",
        "outputId": "4013f04c-6ff3-4940-c655-7169f6bb2822"
      },
      "execution_count": null,
      "outputs": [
        {
          "output_type": "stream",
          "name": "stdout",
          "text": [
            "7\n",
            "The number is odd\n"
          ]
        }
      ]
    },
    {
      "cell_type": "code",
      "source": [
        "#task6\n",
        "a=int(input(\"\"))\n",
        "if a%2==0 or a%5==0:\n",
        "  print(a)\n",
        "else:\n",
        "  print(\"Not a multiple of 2 OR 5\")\n"
      ],
      "metadata": {
        "colab": {
          "base_uri": "https://localhost:8080/"
        },
        "id": "V9e-a2lInbCl",
        "outputId": "23b61917-79fd-4ed4-b937-3a2d9c261ac3"
      },
      "execution_count": null,
      "outputs": [
        {
          "output_type": "stream",
          "name": "stdout",
          "text": [
            "3\n",
            "Not a multiple of 2 OR 5\n"
          ]
        }
      ]
    },
    {
      "cell_type": "code",
      "source": [
        "#task7\n",
        "a=int(input(\"\"))\n",
        "if (a%2==0 and a%5!=0) or (a%2!=0 and a%5==0):\n",
        "  print(a)\n",
        "elif a%2==0 and a%5==0:\n",
        "  print(\"Multiple of 2 and 5 both\")\n",
        "else:\n",
        "  print(\"Not a multiple we want\")"
      ],
      "metadata": {
        "colab": {
          "base_uri": "https://localhost:8080/"
        },
        "id": "S0j41PKLoMWF",
        "outputId": "47648083-46fa-46b0-f0d0-f24b91857670"
      },
      "execution_count": null,
      "outputs": [
        {
          "output_type": "stream",
          "name": "stdout",
          "text": [
            "17\n",
            "Not a multiple we want\n"
          ]
        }
      ]
    },
    {
      "cell_type": "code",
      "source": [
        "#task8\n",
        "a=int(input(\"\"))\n",
        "if a%2==0 and a%5==0:\n",
        "  print(a)\n",
        "else:\n",
        "  print(\"Not multiple of 2 and 5 both\")\n"
      ],
      "metadata": {
        "colab": {
          "base_uri": "https://localhost:8080/"
        },
        "id": "1P8trDBMozE_",
        "outputId": "a18e2f4b-758d-4d32-bf4c-f7fcc6aef1d2"
      },
      "execution_count": null,
      "outputs": [
        {
          "output_type": "stream",
          "name": "stdout",
          "text": [
            "6\n",
            "Not multiple of 2 and 5 both\n"
          ]
        }
      ]
    },
    {
      "cell_type": "code",
      "source": [
        "#task9\n",
        "a=int(input(\"\"))\n",
        "hour=a//3600\n",
        "minutes=(a%3600)//60\n",
        "seconds=(a%3600)%60\n",
        "print(\"Hours: {} Minutes: {} Seconds: {}\".format(hour,minutes,seconds))"
      ],
      "metadata": {
        "colab": {
          "base_uri": "https://localhost:8080/"
        },
        "id": "tXvqDIcrpScc",
        "outputId": "1fdbc459-0b17-4888-ab4e-37d6c6e6e451"
      },
      "execution_count": null,
      "outputs": [
        {
          "output_type": "stream",
          "name": "stdout",
          "text": [
            "10000\n",
            "Hours: 2 Minutes: 46 Seconds: 40\n"
          ]
        }
      ]
    },
    {
      "cell_type": "code",
      "source": [
        "#task10\n",
        "hour=int(input(\"\"))\n",
        "if 0 <hour< 168:\n",
        "  if hour <= 40:\n",
        "    print(200*hour)\n",
        "  elif hour > 40:\n",
        "    print(8000+(hour-40)*300)\n",
        "else:\n",
        "  if hour < 0:\n",
        "    print(\"Hour cannot be negative\")\n",
        "  elif hour >168:\n",
        "    print(\"Impossible to work more than 168 hours weekly\")"
      ],
      "metadata": {
        "colab": {
          "base_uri": "https://localhost:8080/"
        },
        "id": "_PTccZmXqaE9",
        "outputId": "7ee5a70e-e1a7-4e65-ba46-9d531c636e67"
      },
      "execution_count": null,
      "outputs": [
        {
          "output_type": "stream",
          "name": "stdout",
          "text": [
            "-30\n",
            "Hour cannot be negative\n"
          ]
        }
      ]
    },
    {
      "cell_type": "code",
      "source": [
        "#task11\n",
        "import math\n",
        "S=int(input(''))\n",
        "if S >= 100 :\n",
        "  print(12000 / (4 + (math.pow(S,2))/14900))\n",
        "else:\n",
        "  print(3000 - 125 * (math.pow(S,2)))\n",
        "\n"
      ],
      "metadata": {
        "colab": {
          "base_uri": "https://localhost:8080/"
        },
        "id": "yjaSkfGOsnbh",
        "outputId": "25195193-3065-4369-a36f-8ef25ae9f108"
      },
      "execution_count": null,
      "outputs": [
        {
          "output_type": "stream",
          "name": "stdout",
          "text": [
            "120\n",
            "2416.2162162162163\n"
          ]
        }
      ]
    },
    {
      "cell_type": "code",
      "source": [
        "#task12\n",
        "time = int(input(\"\"))\n",
        "if 0<time<23:\n",
        "  if 4<=time<=6:\n",
        "    print(\"Breakfast\")\n",
        "  elif 12<=time<=13:\n",
        "    print(\"Lunch\")\n",
        "  elif 16<=time<=17:\n",
        "    print(\"Snacks\")\n",
        "  elif 19<=time<=20:\n",
        "    print(\"Dinner\")\n",
        "  else:\n",
        "    print(\"Paience is Virtue\")\n",
        "else:\n",
        "  print(\"Wrong Time\")"
      ],
      "metadata": {
        "colab": {
          "base_uri": "https://localhost:8080/"
        },
        "id": "RDRsin59uZ-Y",
        "outputId": "d94bd8da-4ba8-4702-87fc-c806758f5c67"
      },
      "execution_count": null,
      "outputs": [
        {
          "output_type": "stream",
          "name": "stdout",
          "text": [
            "-1\n",
            "Wrong Time\n"
          ]
        }
      ]
    },
    {
      "cell_type": "code",
      "source": [
        "#task13\n",
        "g = int(input(\"\"))\n",
        "if 0<=g<=100:\n",
        "  if 90<=g:\n",
        "    print(\"A\")\n",
        "  elif 80<=g<=89:\n",
        "    print(\"B\")\n",
        "  elif 70<=g<=79:\n",
        "    print(\"C\")\n",
        "  elif 60<=g<=69:\n",
        "    print(\"D\")\n",
        "  elif 50<=g<=59:\n",
        "    print(\"E\")\n",
        "  elif 0<=g<=49:\n",
        "    print(\"F\")\n",
        "else:\n",
        "  print(\"Invalid\")"
      ],
      "metadata": {
        "colab": {
          "base_uri": "https://localhost:8080/"
        },
        "id": "JOD1KIdvvk2B",
        "outputId": "2f70b8b3-1301-4727-af06-63ae93a77fa6"
      },
      "execution_count": null,
      "outputs": [
        {
          "output_type": "stream",
          "name": "stdout",
          "text": [
            "-3\n",
            "Invalid\n"
          ]
        }
      ]
    },
    {
      "cell_type": "code",
      "source": [
        "#task14\n",
        "d=int(input(\"\"))\n",
        "t=int(input(\"\"))\n",
        "a=d/1000\n",
        "b=t/3600\n",
        "v=a/b\n",
        "print(float(v),\"km/h\")\n",
        "if 0<=v<60:\n",
        "  print(\"Too slow. Needs more changes.\")\n",
        "elif 60<=v<=90:\n",
        "  print(\"Velocity is okay. The car is ready!\")\n",
        "elif v>90:\n",
        "  print(\"Too fast. Only a few changes should suffice.\")\n",
        "else:\n",
        "  print(\"Invalid\")"
      ],
      "metadata": {
        "colab": {
          "base_uri": "https://localhost:8080/"
        },
        "id": "zn6lpNzY0nMT",
        "outputId": "9489812d-4415-4e5c-c3e5-28581c5bedbf"
      },
      "execution_count": null,
      "outputs": [
        {
          "output_type": "stream",
          "name": "stdout",
          "text": [
            "25400\n",
            "3600\n",
            "25.4 km/h\n",
            "Too slow. Needs more changes.\n"
          ]
        }
      ]
    },
    {
      "cell_type": "code",
      "source": [
        "print(40%3)"
      ],
      "metadata": {
        "id": "cVMPX222utp1",
        "outputId": "601b9f66-07ba-44c1-fa38-defe454cdb5c",
        "colab": {
          "base_uri": "https://localhost:8080/"
        }
      },
      "execution_count": null,
      "outputs": [
        {
          "output_type": "stream",
          "name": "stdout",
          "text": [
            "1\n"
          ]
        }
      ]
    },
    {
      "cell_type": "code",
      "source": [
        "#task15\n",
        "g = float(input(\"\"))\n",
        "e=int(input(\"\"))\n",
        "if e>=30 and 3.80<=g<=4.0:\n",
        "  if 3.80<=g<=3.89:\n",
        "    print(\"The student is eligible for a waiver of 25 percent\")\n",
        "  elif 3.90<=g<=3.94:\n",
        "    print(\"The student is eligible for a waiver of 50 percent\")\n",
        "  elif 3.95<=g<=3.99:\n",
        "    print(\"The student is eligible for a waiver of 75 percent\")\n",
        "  elif g==4:\n",
        "    print(\"The student is eligible for a waiver of 100 percent\")\n",
        "else:\n",
        "  print(\"The student is not eligible for a waiver\")"
      ],
      "metadata": {
        "colab": {
          "base_uri": "https://localhost:8080/"
        },
        "id": "mrb9TgZB0q0J",
        "outputId": "74f90672-0342-48e4-96f1-908319af25a4"
      },
      "execution_count": null,
      "outputs": [
        {
          "output_type": "stream",
          "name": "stdout",
          "text": [
            "3.93\n",
            "78\n",
            "The student is eligible for a waiver of 50 percent\n"
          ]
        }
      ]
    },
    {
      "cell_type": "code",
      "source": [
        "#task22\n",
        "\n",
        "# 10X10 canvas is 120tk\n",
        "# 25ml paint tube is 75 tk\n",
        "\n",
        "c=int(input(\"\"))\n",
        "t=int(input(\"\"))\n",
        "\n",
        "tot=(c*120)+(t*75)\n",
        "print(\"Previous total:\",tot)\n",
        "if 0<=tot<=299:\n",
        "  print(f\"New total after discount: {tot-0}\")\n",
        "elif 300<=tot<=499:\n",
        "  print(f\"New total after discount: {tot-10}\")\n",
        "elif 500<=tot<=749:\n",
        "  print(f\"New total after discount: {tot-20}\")\n",
        "elif 750<=tot<=999:\n",
        "  print(f\"New total after discount: {tot-50}\")\n",
        "elif tot>= 1000:\n",
        "  print(f\"New total after discount: {tot-150}\")\n"
      ],
      "metadata": {
        "colab": {
          "base_uri": "https://localhost:8080/"
        },
        "id": "4n4eLCBx3SH1",
        "outputId": "af75d82c-b4bf-40b9-f843-a0a5bec0b98e"
      },
      "execution_count": null,
      "outputs": [
        {
          "output_type": "stream",
          "name": "stdout",
          "text": [
            "5\n",
            "8\n",
            "Previous total: 1200\n",
            "New total after discount: 1050\n"
          ]
        }
      ]
    },
    {
      "cell_type": "code",
      "source": [
        "#task23\n",
        "tempf=int(input(\"\"))\n",
        "tempc = (tempf - 32) * 0.56\n",
        "print(int(tempc),\"degrees C\")\n",
        "if tempc<20:\n",
        "  print(\"Winter\")\n",
        "elif 20<=tempc<=25:\n",
        "  print(\"Autumn\")\n",
        "elif 25<tempc<30:\n",
        "  print(\"Spring\")\n",
        "elif 30<=tempc:\n",
        "  print(\"Summer\")\n"
      ],
      "metadata": {
        "colab": {
          "base_uri": "https://localhost:8080/"
        },
        "id": "VyvBwb_F5Swf",
        "outputId": "4ba68a12-bf8e-4a66-9e0b-0f91b7c44e09"
      },
      "execution_count": null,
      "outputs": [
        {
          "output_type": "stream",
          "name": "stdout",
          "text": [
            "82\n",
            "28 degrees C\n",
            "Spring\n"
          ]
        }
      ]
    }
  ]
}