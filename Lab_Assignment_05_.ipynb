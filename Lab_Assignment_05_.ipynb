{
  "nbformat": 4,
  "nbformat_minor": 0,
  "metadata": {
    "colab": {
      "provenance": []
    },
    "kernelspec": {
      "name": "python3",
      "display_name": "Python 3"
    },
    "language_info": {
      "name": "python"
    }
  },
  "cells": [
    {
      "cell_type": "code",
      "source": [
        "#Task1\n",
        "l=[]\n",
        "for i in range (5):\n",
        "  arg=int(input(\"\"))\n",
        "  l.append(arg)\n",
        "  print(f\"Numbers in the list: {l}\")"
      ],
      "metadata": {
        "colab": {
          "base_uri": "https://localhost:8080/"
        },
        "id": "FFlO_i95Dae1",
        "outputId": "2ba54484-5e4c-4a55-8dd2-6560db2e6180"
      },
      "execution_count": null,
      "outputs": [
        {
          "output_type": "stream",
          "name": "stdout",
          "text": [
            "3\n",
            "Numbers in the list: [3]\n",
            "5\n",
            "Numbers in the list: [3, 5]\n",
            "34\n",
            "Numbers in the list: [3, 5, 34]\n",
            "-11\n",
            "Numbers in the list: [3, 5, 34, -11]\n",
            "0\n",
            "Numbers in the list: [3, 5, 34, -11, 0]\n"
          ]
        }
      ]
    },
    {
      "cell_type": "code",
      "execution_count": null,
      "metadata": {
        "colab": {
          "base_uri": "https://localhost:8080/"
        },
        "id": "9AtN3XNL3wPZ",
        "outputId": "37d487e8-eabb-4e5f-983c-fff9a0cb43a4"
      },
      "outputs": [
        {
          "output_type": "stream",
          "name": "stdout",
          "text": [
            "Not Possible\n"
          ]
        }
      ],
      "source": [
        "#Task2\n",
        "string=\"10, 20, 24\"\n",
        "myList=string.split(\", \")\n",
        "for i in range(len(myList)):\n",
        "  myList[i] = int(myList[i])\n",
        "x=myList[2:len(myList)-2]\n",
        "if len(myList)<4:\n",
        "   print(\"Not Possible\")\n",
        "else:\n",
        "  print(x)\n"
      ]
    },
    {
      "cell_type": "code",
      "source": [
        "#Task3\n",
        "j=[]\n",
        "for i in range(5):\n",
        "  arg=int(input())\n",
        "  lis=j.append(arg)\n",
        "k=j[::-1]\n",
        "print(\"Printing values from the list in reverse order:\")\n",
        "for l in k:\n",
        "  print(l)\n",
        "\n",
        "\n"
      ],
      "metadata": {
        "colab": {
          "base_uri": "https://localhost:8080/"
        },
        "id": "-bHTFXsg4zqY",
        "outputId": "83df97de-cb38-4a07-c192-c321e8f89e6f"
      },
      "execution_count": null,
      "outputs": [
        {
          "output_type": "stream",
          "name": "stdout",
          "text": [
            "5\n",
            "-5\n",
            "100\n",
            "1\n",
            "0\n",
            "Printing values from the list in reverse order:\n",
            "0\n",
            "1\n",
            "100\n",
            "-5\n",
            "5\n"
          ]
        }
      ]
    },
    {
      "cell_type": "code",
      "source": [
        "#Task4\n",
        "myList=[3, 5, 1, 6]\n",
        "j=[]\n",
        "for i in range(len(myList)):\n",
        " j.append(myList[i]**2)\n",
        "print(j)"
      ],
      "metadata": {
        "colab": {
          "base_uri": "https://localhost:8080/"
        },
        "id": "eVC4j9TJ6_fp",
        "outputId": "7afd952c-1125-429b-92d0-f94e8a05dea6"
      },
      "execution_count": null,
      "outputs": [
        {
          "output_type": "stream",
          "name": "stdout",
          "text": [
            "[9, 25, 1, 36]\n"
          ]
        }
      ]
    },
    {
      "cell_type": "code",
      "source": [
        "#Task5\n",
        "x=[\"hey\", \"there\", \"\", \"what's\", \"\", \"up\", \"\", \"?\"]\n",
        "g=[]\n",
        "for i in x:\n",
        "  if i != '':\n",
        "    g.append(i)\n",
        "print(g)"
      ],
      "metadata": {
        "colab": {
          "base_uri": "https://localhost:8080/"
        },
        "id": "FLbso02m8Po3",
        "outputId": "8b1d135e-421c-4da3-9c33-33c0eab6c3ed"
      },
      "execution_count": null,
      "outputs": [
        {
          "output_type": "stream",
          "name": "stdout",
          "text": [
            "['hey', 'there', \"what's\", 'up', '?']\n"
          ]
        }
      ]
    },
    {
      "cell_type": "code",
      "source": [
        "#Task6\n",
        "x=input()\n",
        "x=x+','\n",
        "new=''\n",
        "j=[]\n",
        "for i in x:\n",
        " if i != \",\" :\n",
        "  new+=i\n",
        " else:\n",
        "  j.append(int(new))\n",
        "  new=\"\"\n",
        "print(f\"My list: {j}\")\n",
        "max=j[0]\n",
        "index=0\n",
        "for k in range(len(j)):\n",
        "\n",
        "   if (j[k])>(max):\n",
        "     max=j[k]\n",
        "     index=k\n",
        "print(\"Largest number in the list is {} which was found at index {}\".format(max,index))"
      ],
      "metadata": {
        "colab": {
          "base_uri": "https://localhost:8080/"
        },
        "id": "OCh1iXvrJRmT",
        "outputId": "8a653646-229c-4ff3-cd5f-e820e365ac33"
      },
      "execution_count": null,
      "outputs": [
        {
          "output_type": "stream",
          "name": "stdout",
          "text": [
            "7,13,2,10,6,-11,0\n",
            "[7, 13, 2, 10, 6, -11, 0]\n",
            "Largest number in the list is 13 which was found at index 1\n"
          ]
        }
      ]
    },
    {
      "cell_type": "code",
      "source": [
        "#Task8\n",
        "list_one = [1, 2, 3, 4, 5, 6, 7, 8, 9]\n",
        "list_two = [10, 11, 12, -13, -14, -15, -16]\n",
        "list_four=[]\n",
        "for i in (list_one+list_two):\n",
        "  if i%2==0:\n",
        "    list_four.append(i)\n",
        "print(list_four)"
      ],
      "metadata": {
        "colab": {
          "base_uri": "https://localhost:8080/"
        },
        "id": "xTmhYePG84je",
        "outputId": "3e48a1f6-c600-4d6d-90c3-4240ed5356ff"
      },
      "execution_count": null,
      "outputs": [
        {
          "output_type": "stream",
          "name": "stdout",
          "text": [
            "[2, 4, 6, 8, 10, 12, -14, -16]\n"
          ]
        }
      ]
    },
    {
      "cell_type": "code",
      "source": [
        "#Task7\n",
        "List_one = [1, 4, 7, 5]\n",
        "List_two = [6, 1, 3, 9]\n",
        "print(List_one[0:len(List_one)-1]+List_two)"
      ],
      "metadata": {
        "colab": {
          "base_uri": "https://localhost:8080/"
        },
        "id": "5NUqd2d6EunR",
        "outputId": "ddfbc5a2-f692-4f79-8afe-786e97819781"
      },
      "execution_count": null,
      "outputs": [
        {
          "output_type": "stream",
          "name": "stdout",
          "text": [
            "[1, 4, 7, 6, 1, 3, 9]\n"
          ]
        }
      ]
    },
    {
      "cell_type": "code",
      "source": [
        "myList = \"7 12 4 55 96 2 11 61 33 42\"\n",
        "count_1 = 0\n",
        "list1 = []\n",
        "\n",
        "for i in range(len(myList)):\n",
        "  if myList[i]==' ':\n",
        "    list1.append(int(myList[count_1:i]))\n",
        "    count_1=i+1\n",
        "list1.append(int(myList[count_1:len(myList)]))\n",
        "print(\"Original list:\",list1)\n",
        "\n"
      ],
      "metadata": {
        "colab": {
          "base_uri": "https://localhost:8080/"
        },
        "id": "3LhgCGOs-MKO",
        "outputId": "04b5b5fc-8eaf-44fa-eb12-2b9f00871ade"
      },
      "execution_count": null,
      "outputs": [
        {
          "output_type": "stream",
          "name": "stdout",
          "text": [
            "Original list: [7, 12, 4, 55, 96, 2, 11, 61, 33, 42]\n"
          ]
        }
      ]
    },
    {
      "cell_type": "code",
      "source": [
        "#Task11\n",
        "List_one = [1, 4, 3, 2, 6]\n",
        "List_two = [5, 6, 9, 8, 7]\n",
        "\n",
        "iscommon = False\n",
        "for i in List_one:\n",
        "  if i in List_two:\n",
        "    iscommon = True\n",
        "    break\n",
        "print(iscommon)\n"
      ],
      "metadata": {
        "colab": {
          "base_uri": "https://localhost:8080/"
        },
        "id": "Zb53T_MYH8O0",
        "outputId": "fda26252-ac3f-45a0-eebb-606a1b39c0bd"
      },
      "execution_count": null,
      "outputs": [
        {
          "output_type": "stream",
          "name": "stdout",
          "text": [
            "True\n"
          ]
        }
      ]
    },
    {
      "cell_type": "code",
      "source": [
        "#Task9\n",
        "myList = \"7 12 4 55 96 2 11 61 33 42\"\n",
        "count_1 = 0\n",
        "list1 = []\n",
        "\n",
        "for i in range(len(myList)):\n",
        "  if myList[i]==' ':\n",
        "    list1.append(int(myList[count_1:i]))\n",
        "    count_1=i+1\n",
        "list1.append(int(myList[count_1:len(myList)]))\n",
        "print(\"Original list:\",list1)\n",
        "\n",
        "count_2 = 0\n",
        "for i in range(len(list1)):\n",
        "  if list1[count_2]%2==0:\n",
        "    list1.remove(list1[count_2])\n",
        "  else:\n",
        "    count_2+=1\n",
        "\n",
        "print(f\"Modified list:{list1}\")\n"
      ],
      "metadata": {
        "colab": {
          "base_uri": "https://localhost:8080/"
        },
        "id": "KNffGjCHFbSM",
        "outputId": "9d99b5ac-104d-48f0-8be5-147b415cf303"
      },
      "execution_count": null,
      "outputs": [
        {
          "output_type": "stream",
          "name": "stdout",
          "text": [
            "Original list: [7, 12, 4, 55, 96, 2, 11, 61, 33, 42]\n",
            "Modified list:[7, 55, 11, 61, 33]\n"
          ]
        }
      ]
    },
    {
      "cell_type": "code",
      "source": [
        "#Task10\n",
        "x=\"0, 0, 1, 2, 3, 4, 4, 5, 6, 6, 6, 7, 8, 9, 4, 4\"\n",
        "x=x.split(\", \")\n",
        "j=[]\n",
        "for i in range(len(x)):\n",
        "  if x[i] not in j:\n",
        "    j.append(x[i])\n",
        "print(j)"
      ],
      "metadata": {
        "id": "0sVO48S1_b3P",
        "colab": {
          "base_uri": "https://localhost:8080/"
        },
        "outputId": "c7a4a4b0-0375-46ac-89b7-8cd39ce5059d"
      },
      "execution_count": null,
      "outputs": [
        {
          "output_type": "stream",
          "name": "stdout",
          "text": [
            "['0', '1', '2', '3', '4', '5', '6', '7', '8', '9']\n"
          ]
        }
      ]
    },
    {
      "cell_type": "code",
      "source": [
        "x=\"0, 0, 1, 2, 3, 4, 4, 5, 6, 6, 6, 7, 8, 9, 4, 4\"\n",
        "j=[]\n",
        "for i in x:\n",
        " if i != \",\" and i!=\" \":\n",
        "  j.append(i)\n",
        "print(j)"
      ],
      "metadata": {
        "colab": {
          "base_uri": "https://localhost:8080/"
        },
        "id": "AsZgtTasGM4u",
        "outputId": "25c123e4-0360-470a-a84e-1e73ffb1e595"
      },
      "execution_count": null,
      "outputs": [
        {
          "output_type": "stream",
          "name": "stdout",
          "text": [
            "['0', '0', '1', '2', '3', '4', '4', '5', '6', '6', '6', '7', '8', '9', '4', '4']\n"
          ]
        }
      ]
    },
    {
      "cell_type": "code",
      "source": [],
      "metadata": {
        "id": "B-BOSSJQF5W_"
      },
      "execution_count": null,
      "outputs": []
    }
  ]
}