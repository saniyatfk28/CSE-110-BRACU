{
  "nbformat": 4,
  "nbformat_minor": 0,
  "metadata": {
    "colab": {
      "provenance": []
    },
    "kernelspec": {
      "name": "python3",
      "display_name": "Python 3"
    },
    "language_info": {
      "name": "python"
    }
  },
  "cells": [
    {
      "cell_type": "code",
      "execution_count": null,
      "metadata": {
        "id": "vumu6Psima5c"
      },
      "outputs": [],
      "source": [
        "#1\n",
        "def even_checker(n):\n",
        "  if n%2==0:\n",
        "    print(\"Even !!\")\n",
        "  else:\n",
        "    print(\"Odd !!\")"
      ]
    },
    {
      "cell_type": "code",
      "source": [
        "#2\n",
        "def fibonacci(n):\n",
        "  f=0\n",
        "  s=1\n",
        "  while f<=n:\n",
        "    print(f,end='')\n",
        "    t=f\n",
        "    f=s\n",
        "    s=t+s\n",
        "n=int(input())\n",
        "fibonacci(n)"
      ],
      "metadata": {
        "id": "lNc83JqDm1ZQ"
      },
      "execution_count": null,
      "outputs": []
    },
    {
      "cell_type": "code",
      "source": [
        "#3\n",
        "def foo_moo(n):\n",
        "  if n%2==0 and n%3==0:\n",
        "    return \"FooMoo\"\n",
        "  elif n%3==0:\n",
        "    return \"Moo\"\n",
        "  elif n%2==0:\n",
        "    return \"Foo\"\n",
        "  else:\n",
        "    return \"Boo\"\n",
        "n=int(input())\n",
        "print(foo_moo(n))"
      ],
      "metadata": {
        "id": "-CHOm58ynHe-"
      },
      "execution_count": null,
      "outputs": []
    },
    {
      "cell_type": "code",
      "source": [
        "#4\n",
        "def charecter(n):\n",
        "  uc=0\n",
        "  lc=0\n",
        "  for i in n:\n",
        "    if 65<=ord(i)<=90:\n",
        "      uc=uc+1\n",
        "    elif 97<=ord(i)<=122:\n",
        "      lc=lc+1\n",
        "    print(f'No. of Uppercase charecters: {uc} \\nNo. of Lowercase Charecters: {lc}')\n",
        "n=input()\n",
        "charecter(n)"
      ],
      "metadata": {
        "id": "_-f2ki5Inhfe"
      },
      "execution_count": null,
      "outputs": []
    },
    {
      "cell_type": "code",
      "source": [
        "#5\n",
        "def calculate_tax(age,sal,job):\n",
        "  if age<18 or job.upper()==\"PRESIDENT\" or sal<10000:\n",
        "    return 0\n",
        "  elif 10000<=sal<=20000:\n",
        "    return sal*0.05\n",
        "  elif sal>20000:\n",
        "    return sal*0.1\n",
        "age=int(input())\n",
        "sal=int(input())\n",
        "job=input()\n",
        "print(calculate_tax(age,sal,job))"
      ],
      "metadata": {
        "id": "_jKYWeXFof0X"
      },
      "execution_count": null,
      "outputs": []
    },
    {
      "cell_type": "code",
      "source": [
        "k = -10 + 3 - (6 - -6.0 % 8) * 3\n",
        "print(k)\n"
      ],
      "metadata": {
        "colab": {
          "base_uri": "https://localhost:8080/"
        },
        "id": "9aF19W4MYEtk",
        "outputId": "320b1855-c22b-4dcc-f9ff-e484deaba8c6"
      },
      "execution_count": null,
      "outputs": [
        {
          "output_type": "stream",
          "name": "stdout",
          "text": [
            "-19.0\n"
          ]
        }
      ]
    },
    {
      "cell_type": "code",
      "source": [
        "-6//8"
      ],
      "metadata": {
        "colab": {
          "base_uri": "https://localhost:8080/"
        },
        "id": "-ryrYlFcZAH0",
        "outputId": "268af390-1a5e-4539-e491-08615cf07a75"
      },
      "execution_count": null,
      "outputs": [
        {
          "output_type": "execute_result",
          "data": {
            "text/plain": [
              "-1"
            ]
          },
          "metadata": {},
          "execution_count": 8
        }
      ]
    },
    {
      "cell_type": "code",
      "source": [
        "print(-6-8*(-6//8))"
      ],
      "metadata": {
        "colab": {
          "base_uri": "https://localhost:8080/"
        },
        "id": "6DIUWsp_ZX2D",
        "outputId": "ddaa8c6b-111b-4b7f-cc74-5087c049f1a2"
      },
      "execution_count": null,
      "outputs": [
        {
          "output_type": "stream",
          "name": "stdout",
          "text": [
            "2\n"
          ]
        }
      ]
    },
    {
      "cell_type": "code",
      "source": [
        "#6\n",
        "def time_count(n):\n",
        "  year=n//365\n",
        "  month=(n%365)//30\n",
        "  days=month=(n%365)%30\n",
        "  print(year,'years',month,'months and',days,'days')\n",
        "n=int(input())\n",
        "time_count(n)"
      ],
      "metadata": {
        "id": "c6idGdjXpX9W"
      },
      "execution_count": null,
      "outputs": []
    },
    {
      "cell_type": "code",
      "source": [
        "#7\n",
        "def show_palindrome(n):\n",
        "  a=''\n",
        "  for i in range (1,n*2):\n",
        "    if i>=n:\n",
        "      a+=str(n*2-i)\n",
        "    else:\n",
        "      a+=str(i)\n",
        "  print(a)\n",
        "n=int(input())\n",
        "show_palindrome(n)"
      ],
      "metadata": {
        "colab": {
          "base_uri": "https://localhost:8080/"
        },
        "id": "5xnIDXPcp7uu",
        "outputId": "c35a2528-aa9b-4b58-c6fd-e9c686b59380"
      },
      "execution_count": null,
      "outputs": [
        {
          "output_type": "stream",
          "name": "stdout",
          "text": [
            "5\n",
            "123454321\n"
          ]
        }
      ]
    },
    {
      "cell_type": "code",
      "source": [
        "#8\n",
        "def show_palindromic_triangle(x):\n",
        "\n",
        "    for i in range(1,x+1):\n",
        "        for j in range(x-i):\n",
        "            print(\" \", end = \"\")\n",
        "        show_palindrome(i)\n",
        "\n",
        "show_palindromic_triangle(5)"
      ],
      "metadata": {
        "colab": {
          "base_uri": "https://localhost:8080/"
        },
        "id": "6-0kzvnNqhhP",
        "outputId": "e559c650-7df3-4fe1-ee75-d0f4e3c740c7"
      },
      "execution_count": null,
      "outputs": [
        {
          "output_type": "stream",
          "name": "stdout",
          "text": [
            "    1\n",
            "   121\n",
            "  12321\n",
            " 1234321\n",
            "123454321\n"
          ]
        }
      ]
    },
    {
      "cell_type": "code",
      "source": [
        "#9\n",
        "import math\n",
        "list1=[]\n",
        "def areaCircumferenceGenerator (r):\n",
        "  a=math.pi*(i**2)\n",
        "  c=2*math.pi*i\n",
        "  list1.append(c)\n",
        "  list1.append(a)\n",
        "  a_tupl=tuple(list1)\n",
        "  a,c=a_tupl\n",
        "  return f\"{a,c} \\nArea of the circle is {a} and circumference is {c} \"\n",
        "i=2.5\n",
        "print(areaCircumferenceGenerator (i))\n"
      ],
      "metadata": {
        "colab": {
          "base_uri": "https://localhost:8080/"
        },
        "id": "P-106kMqqr2P",
        "outputId": "3dbf9eb1-67ad-42c2-c1a2-66dcabb5b95f"
      },
      "execution_count": null,
      "outputs": [
        {
          "output_type": "stream",
          "name": "stdout",
          "text": [
            "Area of the circle is 15.707963267948966 and circumference is 19.634954084936208 \n",
            "(15.707963267948966, 19.634954084936208)\n"
          ]
        }
      ]
    },
    {
      "cell_type": "code",
      "source": [
        "#10\n",
        "def make_square(Tuple):\n",
        "    start, end = Tuple\n",
        "    d = {}\n",
        "    for i in range(start,end+1):\n",
        "        d[i] = i*i\n",
        "    return d\n",
        "print(make_square((5,9)))"
      ],
      "metadata": {
        "colab": {
          "base_uri": "https://localhost:8080/"
        },
        "id": "0EhqpB-5wDCg",
        "outputId": "1eea5285-7a3e-4e4f-a100-4be15f48d761"
      },
      "execution_count": null,
      "outputs": [
        {
          "output_type": "stream",
          "name": "stdout",
          "text": [
            "{5: 25, 6: 36, 7: 49, 8: 64, 9: 81}\n"
          ]
        }
      ]
    },
    {
      "cell_type": "code",
      "source": [
        "#11\n",
        "def rem_duplicate(t):\n",
        "  l=[]\n",
        "  for i in t:\n",
        "    if i not in l:\n",
        "      l.append(i)\n",
        "  l=tuple(l)\n",
        "  return l\n",
        "print(rem_duplicate((\"Hi\", 1, 2, 3, 3, \"Hi\",'a', 'a', [1,2])))"
      ],
      "metadata": {
        "colab": {
          "base_uri": "https://localhost:8080/"
        },
        "id": "ThqKElG0xFwO",
        "outputId": "a23c86cb-ab0c-444c-b435-a80b14efac15"
      },
      "execution_count": null,
      "outputs": [
        {
          "output_type": "stream",
          "name": "stdout",
          "text": [
            "('Hi', 1, 2, 3, 'a', [1, 2])\n"
          ]
        }
      ]
    },
    {
      "cell_type": "code",
      "source": [
        "#12\n",
        "def function_name(l):\n",
        "  x=[]\n",
        "  for i in l:\n",
        "    if x.count(i)<2:\n",
        "      x.append(i)\n",
        "  print(\"Removed:\",len(l)-len(x))\n",
        "  return x\n",
        "print(function_name([1, 2, 3, 3, 3, 3, 4, 5, 8, 8]))"
      ],
      "metadata": {
        "colab": {
          "base_uri": "https://localhost:8080/"
        },
        "id": "fhL-BdncyxaP",
        "outputId": "df368f91-5781-4a5c-e848-93e80b23e8d7"
      },
      "execution_count": null,
      "outputs": [
        {
          "output_type": "stream",
          "name": "stdout",
          "text": [
            "Removed: 2\n",
            "[1, 2, 3, 3, 4, 5, 8, 8]\n"
          ]
        }
      ]
    },
    {
      "cell_type": "code",
      "source": [
        "#13\n",
        "def math_function(o,f,s):\n",
        "    if o == '+':\n",
        "        result = f + s\n",
        "        return result\n",
        "    elif o == '-':\n",
        "        result = f - s\n",
        "        return result\n",
        "    elif o == '*':\n",
        "        result = f * s\n",
        "        return result\n",
        "    elif o == '/':\n",
        "        result = f / s\n",
        "        return result\n",
        "o = input()\n",
        "f = float(input())\n",
        "s = float(input())\n",
        "print(math_function(o,f,s))"
      ],
      "metadata": {
        "id": "N0Z9Ju5xzfCd"
      },
      "execution_count": null,
      "outputs": []
    },
    {
      "cell_type": "code",
      "source": [
        "#14\n",
        "def remove_remove(s,p):\n",
        "    temp = ''\n",
        "    count = ''\n",
        "    for i in range(0,len(s)):\n",
        "        if i !=0 and i % p == 0:\n",
        "            count += s[i]\n",
        "        else:\n",
        "            temp += s[i]\n",
        "    return temp + count\n",
        "s = input()\n",
        "p = int(input())\n",
        "print(remove_remove(s,p))"
      ],
      "metadata": {
        "colab": {
          "base_uri": "https://localhost:8080/"
        },
        "id": "2NBwf7FS2URw",
        "outputId": "91297bd4-243a-4d0a-bbcc-40cc0a94a52a"
      },
      "execution_count": null,
      "outputs": [
        {
          "output_type": "stream",
          "name": "stdout",
          "text": [
            "I love programming\n",
            "3\n",
            "I lveprgrmmngo oai\n"
          ]
        }
      ]
    },
    {
      "cell_type": "code",
      "source": [
        "#15\n",
        "def bill(order,l=\"Dhanmondi\"):\n",
        "    price = {'rice':105,'potato':20,'chicken':250,'beef':510,'oil':85}\n",
        "    credit = 0\n",
        "\n",
        "    for item in order:\n",
        "        item = item.lower()\n",
        "        if item in price.keys():\n",
        "            credit += price[item]\n",
        "    if l.lower() == \"dhanmondi\":\n",
        "        credit += 30\n",
        "    else:\n",
        "        credit += 70\n",
        "\n",
        "    return credit\n",
        "\n",
        "print(bill([\"Rice\", \"Oil\", \"Rice\"], \"Mohakhali\"))"
      ],
      "metadata": {
        "id": "qrvRG6ms3DfP"
      },
      "execution_count": null,
      "outputs": []
    }
  ]
}