{
  "nbformat": 4,
  "nbformat_minor": 0,
  "metadata": {
    "colab": {
      "provenance": []
    },
    "kernelspec": {
      "name": "python3",
      "display_name": "Python 3"
    },
    "language_info": {
      "name": "python"
    }
  },
  "cells": [
    {
      "cell_type": "code",
      "execution_count": null,
      "metadata": {
        "colab": {
          "base_uri": "https://localhost:8080/"
        },
        "id": "dM7aBSnL0I3M",
        "outputId": "932b3768-9a97-4342-d166-e79636482aa4"
      },
      "outputs": [
        {
          "output_type": "stream",
          "name": "stdout",
          "text": [
            "400\n"
          ]
        }
      ],
      "source": [
        "#Task1\n",
        "a_tuple = (\"The Institute\", (\"Best Mystery & Thriller\", \"The Silent Patient\", 68821), 75717,\n",
        "[1, 2, 3, 400, 5, 6, 7], (\"Best Fiction\", \"The Testaments\", 98291))\n",
        "print(a_tuple[3][3])"
      ]
    },
    {
      "cell_type": "code",
      "source": [
        "#Task2\n",
        "a=(-10, 20, 25,30, 40)\n",
        "z=a[2:-2]\n",
        "print(z)\n"
      ],
      "metadata": {
        "colab": {
          "base_uri": "https://localhost:8080/"
        },
        "id": "l9ZH7OC10o6_",
        "outputId": "1260605e-8e2b-45aa-da02-5ad195d9857e"
      },
      "execution_count": null,
      "outputs": [
        {
          "output_type": "stream",
          "name": "stdout",
          "text": [
            "(25,)\n"
          ]
        }
      ]
    },
    {
      "cell_type": "code",
      "source": [
        "#Task3\n",
        "book_info = (\n",
        "(\"Best Mystery & Thriller\",\"The Silent Patient\",68,821),\n",
        "(\"Best Horror\",\"The Institute\",75,717),\n",
        "(\"Best History & Biography\",\"The five\",31,783 ),\n",
        "(\"Best Fiction\",\"The Testaments\",98,291)\n",
        ")\n",
        "print(\"Size of the tuple is : {}\".format(len(book_info)))\n",
        "for i in book_info:\n",
        "  print(i)"
      ],
      "metadata": {
        "colab": {
          "base_uri": "https://localhost:8080/"
        },
        "id": "sDI5B_Yn1bTZ",
        "outputId": "df5e79c6-c5a6-4e86-ecbc-e9c96665d177"
      },
      "execution_count": null,
      "outputs": [
        {
          "output_type": "stream",
          "name": "stdout",
          "text": [
            "Size of the tuple is : 4\n",
            "('Best Mystery & Thriller', 'The Silent Patient', 68, 821)\n",
            "('Best Horror', 'The Institute', 75, 717)\n",
            "('Best History & Biography', 'The five', 31, 783)\n",
            "('Best Fiction', 'The Testaments', 98, 291)\n"
          ]
        }
      ]
    },
    {
      "cell_type": "code",
      "source": [
        "#Task4\n",
        "book_info = (\n",
        "(\"Best Mystery & Thriller\",\"The Silent Patient\",68821),\n",
        "(\"Best Horror\",\"The Institute\",75717),\n",
        "(\"Best History & Biography\",\"The five\",31783 ),\n",
        "(\"Best Fiction\",\"The Testaments\",98291)\n",
        ")\n",
        "for i in book_info:\n",
        "  cat=i[0]\n",
        "  mov=i[1]\n",
        "  vot=i[2]\n",
        "  print(f\"{mov} won the '{cat}' category with {vot} votes\")"
      ],
      "metadata": {
        "colab": {
          "base_uri": "https://localhost:8080/"
        },
        "id": "mKfMy-Az115J",
        "outputId": "90489023-7b14-46fa-9f06-943ab0156a27"
      },
      "execution_count": null,
      "outputs": [
        {
          "output_type": "stream",
          "name": "stdout",
          "text": [
            "The Silent Patient won the 'Best Mystery & Thriller' category with 68821 votes\n",
            "The Institute won the 'Best Horror' category with 75717 votes\n",
            "The five won the 'Best History & Biography' category with 31783 votes\n",
            "The Testaments won the 'Best Fiction' category with 98291 votes\n"
          ]
        }
      ]
    },
    {
      "cell_type": "code",
      "source": [
        "#Task5\n",
        "t=(10, 8, 5, 2, 10, 15, 10, 8, 5, 8, 8, 2)\n",
        "j=int(input())\n",
        "count=0\n",
        "for i in t:\n",
        "  if j == i:\n",
        "    count+=1\n",
        "print(\"{} appears {} times in the tuple\".format(j,count))"
      ],
      "metadata": {
        "colab": {
          "base_uri": "https://localhost:8080/"
        },
        "id": "bwxjiI8v2oWB",
        "outputId": "c126243d-d16a-4bf1-d381-851afa17cdcc"
      },
      "execution_count": null,
      "outputs": [
        {
          "output_type": "stream",
          "name": "stdout",
          "text": [
            "10\n",
            "10 appears 3 times in the tuple\n"
          ]
        }
      ]
    },
    {
      "cell_type": "code",
      "source": [
        "#task6\n",
        "given_tuple = ('a', 'b', 'c', 'd', 'e', 'f', 'g', 'h')\n",
        "l=[]\n",
        "m=[]\n",
        "for i in given_tuple:\n",
        "  l.append(i)\n",
        "for j in range(-1,-len(l)-1,-1):\n",
        "  m.append(l[j])\n",
        "print(tuple(m))"
      ],
      "metadata": {
        "colab": {
          "base_uri": "https://localhost:8080/"
        },
        "id": "vGYFNCSzVbV-",
        "outputId": "32d0e1a4-2604-48db-e3c4-e643056720e6"
      },
      "execution_count": null,
      "outputs": [
        {
          "output_type": "stream",
          "name": "stdout",
          "text": [
            "('h', 'g', 'f', 'e', 'd', 'c', 'b', 'a')\n"
          ]
        }
      ]
    },
    {
      "cell_type": "code",
      "source": [],
      "metadata": {
        "id": "ji-icB-FVbeu"
      },
      "execution_count": null,
      "outputs": []
    },
    {
      "cell_type": "code",
      "source": [
        "#Task7\n",
        "dict_1 = {'A':90, 'B': 0}\n",
        "dict_2 = {'C':50}\n",
        "output_dict = {**dict_1, **dict_2}\n",
        "print(output_dict)"
      ],
      "metadata": {
        "colab": {
          "base_uri": "https://localhost:8080/"
        },
        "id": "E7ZbYTvK9vC2",
        "outputId": "578f5806-bb80-4c1f-a9fd-74d5cf13ca3b"
      },
      "execution_count": null,
      "outputs": [
        {
          "output_type": "stream",
          "name": "stdout",
          "text": [
            "{'A': 90, 'B': 0, 'C': 50}\n"
          ]
        }
      ]
    },
    {
      "cell_type": "code",
      "source": [
        "#task8\n",
        "data = \"Jon:100, Dan:200, Rob:30, Ned:110\"\n",
        "data=data.split(',')\n",
        "dictionary = {}\n",
        "sum=0\n",
        "count=0\n",
        "for d in data:\n",
        "\tdictionary[d.split(':')[0]] = int(d.split(':')[1])\n",
        "for val in dictionary.values():\n",
        "\tsum += val\n",
        "\tcount += 1\n",
        "if count != 0:\n",
        "\tprint('Average is', int(sum/count))\n",
        "else:\n",
        "\tprint('no data')"
      ],
      "metadata": {
        "colab": {
          "base_uri": "https://localhost:8080/"
        },
        "id": "RE-y9MlUH0dP",
        "outputId": "1b130a2e-6854-4ef3-9177-74fa78176bfb"
      },
      "execution_count": null,
      "outputs": [
        {
          "output_type": "stream",
          "name": "stdout",
          "text": [
            "Average is 110\n"
          ]
        }
      ]
    },
    {
      "cell_type": "code",
      "source": [
        "#Task9\n",
        "exam_marks = {'Cierra Vega': 175, 'Alden Cantrell': 200, 'Kierra Gentry': 165, 'Pierre Cox': 190}\n",
        "mark=170\n",
        "l={}\n",
        "for k,v in exam_marks.items():\n",
        "  if v>=mark:\n",
        "    l[k]=v\n",
        "print(l)"
      ],
      "metadata": {
        "colab": {
          "base_uri": "https://localhost:8080/"
        },
        "id": "wSs2VEOPJCQn",
        "outputId": "5b3e78da-fee0-4d6f-8b0a-fce00b7a0560"
      },
      "execution_count": null,
      "outputs": [
        {
          "output_type": "stream",
          "name": "stdout",
          "text": [
            "{'Cierra Vega': 175, 'Alden Cantrell': 200, 'Pierre Cox': 190}\n"
          ]
        }
      ]
    },
    {
      "cell_type": "code",
      "source": [
        "books={'sci fi': 5, 'mystery': 3, 'horror': 14, 'young_adult': 2, 'adventure':9}\n",
        "name=\"\"\n",
        "max=0\n",
        "for b in books:\n",
        "  if books[b] > max:\n",
        "    max=books[b]\n",
        "    name=b\n",
        "print(f\"The highest selling book genre is '{name}' and the number of books sold are {max}\")"
      ],
      "metadata": {
        "colab": {
          "base_uri": "https://localhost:8080/"
        },
        "id": "Mz1tv5jvN5VU",
        "outputId": "9efbaa55-fcf0-410d-e035-da739690ec35"
      },
      "execution_count": null,
      "outputs": [
        {
          "output_type": "stream",
          "name": "stdout",
          "text": [
            "The highest selling book genre is 'horror' and the number of books sold are 14\n"
          ]
        }
      ]
    },
    {
      "cell_type": "code",
      "source": [
        "#Task11\n",
        "data=input()\n",
        "temp={}\n",
        "\n",
        "for d in data:\n",
        "  if (ord('A')<=ord(d)<=ord('Z')) or (ord('a')<=ord(d)<=ord('z')):\n",
        "    d=d.lower()\n",
        "    if d in temp:\n",
        "      temp[d]+=1\n",
        "    else:\n",
        "      temp[d]=1\n",
        "print(temp)"
      ],
      "metadata": {
        "colab": {
          "base_uri": "https://localhost:8080/"
        },
        "id": "jAgEol1vOetr",
        "outputId": "b188d64e-bb21-4c36-88ea-8cc086bfcfcd"
      },
      "execution_count": null,
      "outputs": [
        {
          "output_type": "stream",
          "name": "stdout",
          "text": [
            "\"Python programming is fun\"\n",
            "{'p': 2, 'y': 1, 't': 1, 'h': 1, 'o': 2, 'n': 3, 'r': 2, 'g': 2, 'a': 1, 'm': 2, 'i': 2, 's': 1, 'f': 1, 'u': 1}\n"
          ]
        }
      ]
    },
    {
      "cell_type": "code",
      "source": [
        "#Task12\n",
        "dict_1 = {'A': [1, 2, 3,], 'b': ['1', '2'], \"c\": [4, 5, 6, 7]}\n",
        "count=0\n",
        "l=[]\n",
        "for value in dict_1.values():\n",
        "  l.append(value)\n",
        "for i in l:\n",
        "  for j in i:\n",
        "    if j in i:\n",
        "      count+=1\n",
        "print(count)"
      ],
      "metadata": {
        "colab": {
          "base_uri": "https://localhost:8080/"
        },
        "id": "dWJehttXQm1z",
        "outputId": "82662e0b-c3a1-4751-ce90-15c30c6b4486"
      },
      "execution_count": null,
      "outputs": [
        {
          "output_type": "stream",
          "name": "stdout",
          "text": [
            "9\n"
          ]
        }
      ]
    },
    {
      "cell_type": "code",
      "source": [
        "#Task13\n",
        "list_1 = [(\"a\", 1), (\"b\", 2), (\"a\", 3), (\"b\", 1), (\"a\", 2), (\"c\", 1)]\n",
        "l = {}\n",
        "for k, x in list_1:\n",
        "    if k in l:\n",
        "        l[k].append(x)\n",
        "    else:\n",
        "        l[k] = [x]\n",
        "print(l)"
      ],
      "metadata": {
        "colab": {
          "base_uri": "https://localhost:8080/"
        },
        "id": "vqpfP00eS33w",
        "outputId": "966689a3-5889-4d1d-bca5-939b457e8953"
      },
      "execution_count": null,
      "outputs": [
        {
          "output_type": "stream",
          "name": "stdout",
          "text": [
            "{'a': [1, 3, 2], 'b': [2, 1], 'c': [1]}\n"
          ]
        }
      ]
    }
  ]
}