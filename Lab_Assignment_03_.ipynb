{
  "nbformat": 4,
  "nbformat_minor": 0,
  "metadata": {
    "colab": {
      "provenance": []
    },
    "kernelspec": {
      "name": "python3",
      "display_name": "Python 3"
    },
    "language_info": {
      "name": "python"
    }
  },
  "cells": [
    {
      "cell_type": "code",
      "execution_count": null,
      "metadata": {
        "colab": {
          "base_uri": "https://localhost:8080/"
        },
        "id": "eDwkd6-T6_PB",
        "outputId": "dcd8ba22-96e2-43ac-f105-ee1ccd9641d5"
      },
      "outputs": [
        {
          "output_type": "stream",
          "name": "stdout",
          "text": [
            "24, 18, 12, 6, 0, -6"
          ]
        }
      ],
      "source": [
        "#task1\n",
        "count=24\n",
        "while count >= -6 :\n",
        "  if count == -6:\n",
        "        print(count, end = \"\")\n",
        "  else:\n",
        "        print(count, end = \", \")\n",
        "\n",
        "  count = count - 6"
      ]
    },
    {
      "cell_type": "code",
      "source": [
        "count=-10\n",
        "while count <= 20 :\n",
        "  if count == 20:\n",
        "        print(count, end = \"\")\n",
        "  else:\n",
        "        print(count, end = \", \")\n",
        "\n",
        "  count = count + 5"
      ],
      "metadata": {
        "colab": {
          "base_uri": "https://localhost:8080/"
        },
        "id": "IPRLGpAO8Eih",
        "outputId": "88b71c72-b904-4aeb-aa40-fc88361ec5db"
      },
      "execution_count": null,
      "outputs": [
        {
          "output_type": "stream",
          "name": "stdout",
          "text": [
            "-10, -5, 0, 5, 10, 15, 20"
          ]
        }
      ]
    },
    {
      "cell_type": "code",
      "source": [
        "count = 18\n",
        "while count <= 63 :\n",
        "  if count == 63:\n",
        "        print(count, end = \"\")\n",
        "  else:\n",
        "        print(count, end = \", \")\n",
        "\n",
        "  count = count + 9"
      ],
      "metadata": {
        "colab": {
          "base_uri": "https://localhost:8080/"
        },
        "id": "jGUzZ0Qy8dYG",
        "outputId": "1c347ce3-ab32-479b-a9e0-e289b04f67cb"
      },
      "execution_count": null,
      "outputs": [
        {
          "output_type": "stream",
          "name": "stdout",
          "text": [
            "18, 27, 36, 45, 54, 63"
          ]
        }
      ]
    },
    {
      "cell_type": "code",
      "source": [
        "count=-63\n",
        "while count <= 54 :\n",
        "  if count == 54:\n",
        "        print(count, end = \"\")\n",
        "\n",
        "  else:\n",
        "        print(count, end = \",\")\n",
        "\n",
        ""
      ],
      "metadata": {
        "colab": {
          "base_uri": "https://localhost:8080/"
        },
        "id": "5reIO8T29Ib_",
        "outputId": "9cc5bbf8-3737-409c-cfa2-05499d9dbb80"
      },
      "execution_count": null,
      "outputs": [
        {
          "output_type": "stream",
          "name": "stdout",
          "text": [
            "-63,-36,-9,18,45,"
          ]
        }
      ]
    },
    {
      "cell_type": "code",
      "source": [
        "print(27-18)"
      ],
      "metadata": {
        "colab": {
          "base_uri": "https://localhost:8080/"
        },
        "id": "eay6q_DY9qFG",
        "outputId": "bdd172d4-849a-46a9-b4b6-7ad8b1971714"
      },
      "execution_count": null,
      "outputs": [
        {
          "output_type": "stream",
          "name": "stdout",
          "text": [
            "9\n"
          ]
        }
      ]
    }
  ]
}