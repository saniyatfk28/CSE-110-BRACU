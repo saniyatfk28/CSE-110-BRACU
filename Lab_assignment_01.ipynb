{
  "cells": [
    {
      "cell_type": "markdown",
      "metadata": {
        "id": "0eloac1Y8WKP"
      },
      "source": [
        "TASK 1"
      ]
    },
    {
      "cell_type": "code",
      "execution_count": null,
      "metadata": {
        "colab": {
          "base_uri": "https://localhost:8080/"
        },
        "id": "At7sK_Nj8bVX",
        "outputId": "e5fa5fa1-2867-462e-c162-6fd66ddb2e63"
      },
      "outputs": [
        {
          "output_type": "stream",
          "name": "stdout",
          "text": [
            "Enter first number :9\n",
            "Enter second number :5\n",
            "Sum : 14\n",
            "Product : 45\n",
            "Difference :  -4\n"
          ]
        }
      ],
      "source": [
        "first_number = int(input('Enter first number :'))\n",
        "second_number = int(input('Enter second number :'))\n",
        "sum = first_number + second_number\n",
        "print('Sum :',(sum))\n",
        "product = first_number * second_number\n",
        "print('Product :',product)\n",
        "difference = second_number - first_number\n",
        "print('Difference : ',difference)"
      ]
    },
    {
      "cell_type": "markdown",
      "metadata": {
        "id": "YD8oCp9W_sDc"
      },
      "source": [
        "TASK 2"
      ]
    },
    {
      "cell_type": "code",
      "execution_count": null,
      "metadata": {
        "colab": {
          "base_uri": "https://localhost:8080/"
        },
        "id": "871YiIl9DruX",
        "outputId": "00f4f955-af59-44a6-d9a2-dacbc7beaadd"
      },
      "outputs": [
        {
          "output_type": "stream",
          "name": "stdout",
          "text": [
            "Enter the length of radius : 6\n",
            "Circumference :  37.68\n",
            "Area :  113.09733552923255\n"
          ]
        }
      ],
      "source": [
        "import math\n",
        "\n",
        "radius = float(input('Enter the length of radius : ') )\n",
        "area = math.pi * radius ** 2\n",
        "circumference = 2 * 3.14 * radius\n",
        "print('Circumference : ',circumference)\n",
        "print('Area : ',area)\n"
      ]
    },
    {
      "cell_type": "markdown",
      "metadata": {
        "id": "ZLtVK6WvHrLq"
      },
      "source": [
        "TASK 3"
      ]
    },
    {
      "cell_type": "code",
      "execution_count": null,
      "metadata": {
        "colab": {
          "base_uri": "https://localhost:8080/"
        },
        "id": "kiOVTEnkHtCJ",
        "outputId": "ed909cea-cf5b-4e76-e630-15f395b662b0"
      },
      "outputs": [
        {
          "name": "stdout",
          "output_type": "stream",
          "text": [
            "Enter first number :7\n",
            "Enter second number :7\n",
            "The number are equal\n"
          ]
        }
      ],
      "source": [
        "first_number = float(input('Enter first number :'))\n",
        "second_number = float(input('Enter second number :'))\n",
        "if first_number > second_number :\n",
        "  print ('First is greater')\n",
        "elif first_number < second_number :\n",
        "   print (' Second is greater')\n",
        "elif first_number == second_number :\n",
        "   print ('The number are equal')"
      ]
    },
    {
      "cell_type": "markdown",
      "metadata": {
        "id": "Fj5mvzfqK1cy"
      },
      "source": [
        "TASK 4"
      ]
    },
    {
      "cell_type": "code",
      "execution_count": null,
      "metadata": {
        "colab": {
          "base_uri": "https://localhost:8080/"
        },
        "id": "alTHQ8MbK6hL",
        "outputId": "ef8102e2-2a09-4c17-89a3-d47358c06ff4"
      },
      "outputs": [
        {
          "output_type": "stream",
          "name": "stdout",
          "text": [
            "Enter first number :98\n",
            "Enter second number :9.9\n",
            "88.1\n"
          ]
        }
      ],
      "source": [
        "number1 = x = float(input('Enter first number :'))\n",
        "number2 = y = float(input('Enter second number :'))\n",
        "\n",
        "if x > y :\n",
        "  difference = x - y\n",
        "  print (difference)\n",
        "elif x < y :\n",
        "  difference = y - x\n",
        "  print ()\n",
        "elif x == y :\n",
        "  difference = x-y\n",
        "  print (difference)\n",
        "\n",
        "\n"
      ]
    },
    {
      "cell_type": "markdown",
      "metadata": {
        "id": "EcbbM1f_PI5x"
      },
      "source": [
        "TASK 5"
      ]
    },
    {
      "cell_type": "code",
      "execution_count": null,
      "metadata": {
        "colab": {
          "base_uri": "https://localhost:8080/"
        },
        "id": "qwFPmGqtPNvf",
        "outputId": "cf19f452-6bde-4897-c0c2-ba2eed4ab1ab"
      },
      "outputs": [
        {
          "output_type": "stream",
          "name": "stdout",
          "text": [
            "Enter a number = 6\n",
            "The number is even\n"
          ]
        }
      ],
      "source": [
        "number = int(input('Enter a number = '))\n",
        "remainder = y = number%2\n",
        "if y==0:\n",
        "    print('The number is even')\n",
        "else:\n",
        "  print('The number is odd')\n",
        "\n"
      ]
    },
    {
      "cell_type": "markdown",
      "metadata": {
        "id": "guJ_QzkBRNpt"
      },
      "source": [
        "TASK 6"
      ]
    },
    {
      "cell_type": "code",
      "execution_count": null,
      "metadata": {
        "colab": {
          "base_uri": "https://localhost:8080/"
        },
        "id": "7G-FXp2WRdn1",
        "outputId": "a25cddbd-899b-4359-ef6d-826b2ae5696b"
      },
      "outputs": [
        {
          "output_type": "stream",
          "name": "stdout",
          "text": [
            "Enter a number = 4\n",
            "4\n"
          ]
        }
      ],
      "source": [
        "number = w = int(input('Enter a number = '))\n",
        "remainder1 = x = w%2\n",
        "remainder2 = y = w%5\n",
        "if x == 0 or y == 0  :\n",
        "  print(w)\n",
        "else:\n",
        "  print('it is not a multiple of 2 or 5')"
      ]
    },
    {
      "cell_type": "markdown",
      "metadata": {
        "id": "dhE1M7U1VzKy"
      },
      "source": [
        "TASK 7"
      ]
    },
    {
      "cell_type": "code",
      "execution_count": null,
      "metadata": {
        "colab": {
          "base_uri": "https://localhost:8080/"
        },
        "id": "rm2mleTgV2F3",
        "outputId": "7ffb18ac-36d5-4837-a93a-48477b13e6cb"
      },
      "outputs": [
        {
          "output_type": "stream",
          "name": "stdout",
          "text": [
            "Enter a number = 15\n",
            "15\n"
          ]
        }
      ],
      "source": [
        "number = w = int(input('Enter a number = '))\n",
        "remainder1 = x = w%2\n",
        "remainder2 = y = w%5\n",
        "if x == 0 and y == 0 :\n",
        "  print(\"Multiple of 2 and 5 both\")\n",
        "elif x != 0 or y != 0 :\n",
        "  print(w)\n",
        "else:\n",
        "  print('Not a miltiple we want')\n",
        "\n",
        "\n"
      ]
    },
    {
      "cell_type": "code",
      "source": [
        "x = 5\n",
        "for _ in range(1, x):\n",
        "    print(\"* \" * _ )\n",
        "for i in range(x + 1, 0, -1):\n",
        "  for j in range(0, x - 1):\n",
        "        print(\"*\", end=' ')\n",
        "  print(\" \")\n"
      ],
      "metadata": {
        "colab": {
          "base_uri": "https://localhost:8080/"
        },
        "id": "VzXd6cgMNcFA",
        "outputId": "8f80a3ac-ecf7-4b67-f738-3e2248c77f03"
      },
      "execution_count": null,
      "outputs": [
        {
          "output_type": "stream",
          "name": "stdout",
          "text": [
            "* \n",
            "* * \n",
            "* * * \n",
            "* * * * \n",
            "* * * *  \n",
            "* * * *  \n",
            "* * * *  \n",
            "* * * *  \n",
            "* * * *  \n",
            "* * * *  \n"
          ]
        }
      ]
    },
    {
      "cell_type": "code",
      "source": [
        "rows = 5\n",
        "for c in range(0, rows):\n",
        "#    for r in range(0, c + 1):\n",
        "        print(\"*\", end=' ')\n",
        "#    print(\" \")\n",
        "\n",
        "for c in range(rows, 0, -1):\n",
        "    for r in range(0, c - 1):\n",
        "        print(\"*\", end=' ')\n",
        "    print(\" \")"
      ],
      "metadata": {
        "colab": {
          "base_uri": "https://localhost:8080/"
        },
        "id": "0BtCKIvARo5b",
        "outputId": "1b97fa64-dedd-4ee2-debc-68abd473c6a3"
      },
      "execution_count": null,
      "outputs": [
        {
          "output_type": "stream",
          "name": "stdout",
          "text": [
            "* * * * * * * * *  \n",
            "* * *  \n",
            "* *  \n",
            "*  \n",
            " \n"
          ]
        }
      ]
    },
    {
      "cell_type": "code",
      "source": [
        "rows = 5\n",
        "for i in range(rows + 1, 0, -1):\n",
        "    # nested reverse loop\n",
        "    for j in range(0, i - 1):\n",
        "        # display star\n",
        "        print(\"*\", end=' ')\n",
        "    print(\" \")"
      ],
      "metadata": {
        "colab": {
          "base_uri": "https://localhost:8080/"
        },
        "id": "CaaG2ak6QMMd",
        "outputId": "c9e0078a-a447-4e83-c6d4-2548c05a446a"
      },
      "execution_count": null,
      "outputs": [
        {
          "output_type": "stream",
          "name": "stdout",
          "text": [
            "* * * * *  \n",
            "* * * *  \n",
            "* * *  \n",
            "* *  \n",
            "*  \n",
            " \n"
          ]
        }
      ]
    },
    {
      "cell_type": "code",
      "source": [
        "x=5\n",
        "count=0\n",
        "for i in range(x):\n",
        "  print(i**2)\n"
      ],
      "metadata": {
        "colab": {
          "base_uri": "https://localhost:8080/"
        },
        "id": "dL85sn3fWXnA",
        "outputId": "e3bb1733-49fa-48c0-f268-6fc3842a985c"
      },
      "execution_count": null,
      "outputs": [
        {
          "output_type": "stream",
          "name": "stdout",
          "text": [
            "0\n",
            "1\n",
            "4\n",
            "9\n",
            "16\n"
          ]
        }
      ]
    },
    {
      "cell_type": "code",
      "source": [
        "x=5\n",
        "count=0\n",
        "while count > x :\n",
        "  print(count)\n",
        "  count+=1\n",
        "  print(count)"
      ],
      "metadata": {
        "id": "d8Yt6gqeW1sw"
      },
      "execution_count": null,
      "outputs": []
    },
    {
      "cell_type": "code",
      "source": [
        "x=\"0999907778\"\n",
        "if \"099\" in x:\n",
        "  print(x)\n",
        "else:\n",
        "  print(\"False\")"
      ],
      "metadata": {
        "colab": {
          "base_uri": "https://localhost:8080/"
        },
        "id": "5Rl7FIrsk6OE",
        "outputId": "e03f2cff-ded0-48c4-f4fd-911ac33fc690"
      },
      "execution_count": null,
      "outputs": [
        {
          "output_type": "stream",
          "name": "stdout",
          "text": [
            "0999907778\n"
          ]
        }
      ]
    },
    {
      "cell_type": "code",
      "source": [
        "print(\"hello world)\")"
      ],
      "metadata": {
        "id": "p9ZSbE9ZYJr8"
      },
      "execution_count": null,
      "outputs": []
    },
    {
      "cell_type": "code",
      "source": [
        "class Student:\n",
        "    def __init__(self,name,ID):\n",
        "        self.name = name\n",
        "        self.ID = ID\n",
        "    def Details(self):\n",
        "        return \"Name: \"+self.name+\"\\n\"+\"ID: \"+self.ID+\"\\n\"\n",
        "#Write your code here\n",
        "\n",
        "\n",
        "\n",
        "\n",
        "class CSEStudent(Student):\n",
        "  def __init__(self,name,id,sem):\n",
        "    super().__init__(name,id)\n",
        "    self.semester=sem\n",
        "  def Details(self):\n",
        "    return f\"{super().Details()}Semester:{self.semester}\"\n",
        "\n",
        "  def addCourseWithMarks(self,*args):\n",
        "    self.coursesandgpa=args\n",
        "    self.m=[]\n",
        "    self.n=[]\n",
        "    self.o=[]\n",
        "    self.p={}\n",
        "    for i in args :\n",
        "      if type(i)==str:\n",
        "        self.m.append(i)\n",
        "      else:\n",
        "        self.n.append(i)\n",
        "\n",
        "\n",
        "    for\n",
        "\n",
        "\n",
        "\n",
        "\n",
        "  def showGPA(self):\n",
        "    print(f\"{self.name} has {len(self.m)} courses\")\n",
        "    for i,j in self.o.items() :\n",
        "      print(f\"{i}:{j}\")\n",
        "\n",
        "  # def ddCourseWithMarks(self,*args):\n",
        "  #   self.course=args\n",
        "  #   for\n",
        "# Each course has 3 credits.\n",
        "# GPA = sum( per course grade * per course credit) / sum(credit attended in that semester)\n",
        "# Grading policy:  mark>=85: 4.0 ; 80<=mark<=84: 3.3;70<=mark<=79:3.0 ;65<=mark<=69: 2.3; 57<=mark<=64:2.0 ; 55<=mark<=56:1.3; 50<=mark<=54:1.0; >50:0.0\n",
        "Bob = CSEStudent(\"Bob\",\"20301018\",\"Fall 2020\")\n",
        "Carol = CSEStudent(\"Carol\",\"16301814\",\"Fall 2020\")\n",
        "Anny = CSEStudent(\"Anny\",\"18201234\",\"Fall 2020\")\n",
        "print(\"#########################\")\n",
        "print(Bob.Details())\n",
        "print(\"#########################\")\n",
        "print(Carol.Details())\n",
        "print(\"#########################\")\n",
        "print(Anny.Details())\n",
        "# print(\"#########################\")\n",
        "Bob.addCourseWithMarks(\"CSE111\",83.5,\"CSE230\",73.0,\"CSE260\",92.5)\n",
        "# Carol.addCourseWithMarks(\"CSE470\",62.5,\"CSE422\",69.0,\"CSE460\",76.5,\"CSE461\",87.0)\n",
        "# Anny.addCourseWithMarks(\"CSE340\",45.5,\"CSE321\",95.0,\"CSE370\",91.0)\n",
        "print(\"----------------------------\")\n",
        "Bob.showGPA()\n",
        "# print(\"----------------------------\")\n",
        "# Carol.showGPA()\n",
        "# print(\"----------------------------\")\n",
        "# Anny.showGPA()\n",
        "# #########################\n",
        "# Name: Bob\n",
        "# ID: 20301018\n",
        "# Current semester: Fall 2020\n",
        "# #########################\n",
        "# Name: Carol\n",
        "# ID: 16301814\n",
        "# Current semester: Fall 2020\n",
        "# #########################\n",
        "# Name: Anny\n",
        "# ID: 18201234\n",
        "# Current semester: Fall 2020\n",
        "# #########################\n",
        "# ----------------------------\n",
        "# Bob has taken 3 courses.\n",
        "# CSE111: 3.3\n",
        "# CSE230: 3.0\n",
        "# CSE260: 4.0\n",
        "# GPA of Bob is: 3.43\n",
        "# ----------------------------\n",
        "# Carol has taken 4 courses.\n",
        "# CSE470: 2.0\n",
        "# CSE422: 2.3\n",
        "# CSE460: 3.0\n",
        "# CSE461: 4.0\n",
        "# GPA of Carol is: 2.83\n",
        "# ----------------------------\n",
        "# Anny has taken 3 courses.\n",
        "# CSE340: 0.0\n",
        "# CSE321: 4.0\n",
        "# CSE370: 4.0\n",
        "# GPA of Anny is: 2.67\n"
      ],
      "metadata": {
        "id": "flndo4J1YNdR",
        "colab": {
          "base_uri": "https://localhost:8080/"
        },
        "outputId": "e44cbaf6-fece-4e9d-e555-e4980b077244"
      },
      "execution_count": null,
      "outputs": [
        {
          "output_type": "stream",
          "name": "stdout",
          "text": [
            "#########################\n",
            "Name: Bob\n",
            "ID: 20301018\n",
            "Semester:Fall 2020\n",
            "#########################\n",
            "Name: Carol\n",
            "ID: 16301814\n",
            "Semester:Fall 2020\n",
            "#########################\n",
            "Name: Anny\n",
            "ID: 18201234\n",
            "Semester:Fall 2020\n",
            "----------------------------\n",
            "Bob has 3 courses\n",
            "CSE111:92.5\n",
            "CSE230:92.5\n",
            "CSE260:92.5\n"
          ]
        }
      ]
    },
    {
      "cell_type": "code",
      "source": [
        "x=(\"CSE111\",83.5,\"CSE230\",73.0,\"CSE260\",92.5)\n",
        "y=((k,v)for k,v in x)\n",
        "print(y)\n"
      ],
      "metadata": {
        "colab": {
          "base_uri": "https://localhost:8080/"
        },
        "id": "b5tSD7KicBDv",
        "outputId": "4b86447a-639f-4e1e-ac3d-378582b16e66"
      },
      "execution_count": null,
      "outputs": [
        {
          "output_type": "stream",
          "name": "stdout",
          "text": [
            "<generator object <genexpr> at 0x7fe3455fa7b0>\n"
          ]
        }
      ]
    },
    {
      "cell_type": "code",
      "source": [
        "x=dict(\"CSE111\",83.5,\"CSE230\",73.0,\"CSE260\",92.5)\n",
        "print(x)"
      ],
      "metadata": {
        "colab": {
          "base_uri": "https://localhost:8080/",
          "height": 187
        },
        "id": "Aj8qdZ0jdtlm",
        "outputId": "5f31e331-2a3e-4a9e-817b-b30c3005bff5"
      },
      "execution_count": null,
      "outputs": [
        {
          "output_type": "error",
          "ename": "TypeError",
          "evalue": "ignored",
          "traceback": [
            "\u001b[0;31m---------------------------------------------------------------------------\u001b[0m",
            "\u001b[0;31mTypeError\u001b[0m                                 Traceback (most recent call last)",
            "\u001b[0;32m<ipython-input-48-98a865d4251f>\u001b[0m in \u001b[0;36m<module>\u001b[0;34m\u001b[0m\n\u001b[0;32m----> 1\u001b[0;31m \u001b[0mx\u001b[0m\u001b[0;34m=\u001b[0m\u001b[0mdict\u001b[0m\u001b[0;34m(\u001b[0m\u001b[0;34m\"CSE111\"\u001b[0m\u001b[0;34m,\u001b[0m\u001b[0;36m83.5\u001b[0m\u001b[0;34m,\u001b[0m\u001b[0;34m\"CSE230\"\u001b[0m\u001b[0;34m,\u001b[0m\u001b[0;36m73.0\u001b[0m\u001b[0;34m,\u001b[0m\u001b[0;34m\"CSE260\"\u001b[0m\u001b[0;34m,\u001b[0m\u001b[0;36m92.5\u001b[0m\u001b[0;34m)\u001b[0m\u001b[0;34m\u001b[0m\u001b[0;34m\u001b[0m\u001b[0m\n\u001b[0m\u001b[1;32m      2\u001b[0m \u001b[0mprint\u001b[0m\u001b[0;34m(\u001b[0m\u001b[0mx\u001b[0m\u001b[0;34m)\u001b[0m\u001b[0;34m\u001b[0m\u001b[0;34m\u001b[0m\u001b[0m\n",
            "\u001b[0;31mTypeError\u001b[0m: dict expected at most 1 argument, got 6"
          ]
        }
      ]
    },
    {
      "cell_type": "code",
      "source": [
        "\n",
        "# Python3 program to Convert a\n",
        "# list to dictionary\n",
        "\n",
        "def Convert(lst):\n",
        "    res_dct = {lst[i]: lst[i + 1] for i in range(0, len(lst), 2)}\n",
        "    return res_dct\n",
        "\n",
        "# Driver code\n",
        "lst = ['a', 1, 'b', 2, 'c', 3]\n",
        "print(Convert(lst))"
      ],
      "metadata": {
        "colab": {
          "base_uri": "https://localhost:8080/"
        },
        "id": "ivgQxRwPc-SG",
        "outputId": "defe148e-e2b6-422b-e249-152d8ef7781b"
      },
      "execution_count": null,
      "outputs": [
        {
          "output_type": "stream",
          "name": "stdout",
          "text": [
            "{'a': 1, 'b': 2, 'c': 3}\n"
          ]
        }
      ]
    },
    {
      "cell_type": "code",
      "source": [
        "class Transport:\n",
        "    total_traveller = 0\n",
        "\n",
        "    def __init__(self, name, fare):\n",
        "        self.name = name\n",
        "        self.baseFare = fare\n",
        "\n",
        "    def __str__(self):\n",
        "        s =  \"Name: \"+self.name+\", Base fare: \"+str(self.baseFare)\n",
        "        return s\n",
        "\n",
        "# Write your codes here.\n",
        "class Bus(Transport):\n",
        "  def __init__(self,name,fare):\n",
        "    count=0\n",
        "    super().__init__(name,fare)\n",
        "    Bus.count+=1\n",
        "  def addPassengerWithBags(self,*args):\n",
        "    self.passengerfares=args\n",
        "    self.m=[]\n",
        "    self.n=[]\n",
        "    self.o=[]\n",
        "    for i in args :\n",
        "      if type(i)==str:\n",
        "        self.m.append(i)\n",
        "      else:\n",
        "        self.n.append(i)\n",
        "    for i in self.m:\n",
        "      f\n",
        "\n",
        "# Do not change the following lines of code.\n",
        "t1 = Bus(“Volvo”, 950)\n",
        "print(\"=================================\")\n",
        "t1.addPassengerWithBags(“David”, 6,  “Mike”, 1, “Carol”, 3)\n",
        "print(\"=================================\")\n",
        "print(t1)\n",
        "print(\"=================================\")\n",
        "t2 = Train(“Silk City”, 850)\n",
        "print(\"=================================\")\n",
        "t2.addPassengerWithBags(“Bob”, 2, “Simon”, 4)\n",
        "print(\"=================================\")\n",
        "print(t2)\n",
        "print(\"=================================\")\n",
        "print(“Total Passengers in Transport: ”, Transport.total_traveller )\n",
        "# Base-fare of Volvo is 950 Taka\n",
        "# ===============================\n",
        "# ===============================\n",
        "# Name: Volvo, Base fare: 950\n",
        "# Total Passenger(s): 3\n",
        "# Passenger details:\n",
        "# Name: David, Fare: 1055\n",
        "# Name: Mike, Fare: 950\n",
        "# Name: Carol, Fare: 1010\n",
        "# ===============================\n",
        "# Base-fare of Silk City is 850 Taka\n",
        "# ===============================\n",
        "# ===============================\n",
        "# Name: Silk City, Base fare: 850\n",
        "# Total Passenger(s): 2\n",
        "# Passenger details:\n",
        "# Name: Bob, Fare: 850\n",
        "# Name: Simon, Fare: 910\n",
        "# ===============================\n",
        "# Total Passengers in Transport: 5\n"
      ],
      "metadata": {
        "id": "0unweTQ5Wawk"
      },
      "execution_count": null,
      "outputs": []
    },
    {
      "cell_type": "code",
      "source": [
        "class Student:\n",
        "  def __init__(self,)\n",
        "\n",
        "\n",
        "\n",
        "\n",
        "\n",
        "\n",
        "\n",
        "\n",
        "\n",
        "\n",
        "\n",
        "\n",
        "\n",
        "\n",
        "s1 = Student(\"Naruto\", \"CSE\")\n",
        "print('----------------------')\n",
        "s1.individualInfo()\n",
        "print('#############################')\n",
        "s1.totalInfo()\n",
        "print('============================')\n",
        "\n",
        "s2 = Student(\"Sakura\", \"BBA\")\n",
        "print('----------------------')\n",
        "s2.individualInfo()\n",
        "print('#############################')\n",
        "s2.totalInfo()\n",
        "print('============================')\n",
        "\n",
        "s3 = Student(\"Shikamaru\", \"CSE\")\n",
        "print('----------------------')\n",
        "s3.individualInfo()\n",
        "print('#############################')\n",
        "s3.totalInfo()\n",
        "print('============================')\n",
        "\n",
        "s4 = Student(\"Deidara\", \"BBA\")\n",
        "print('----------------------')\n",
        "s4.individualInfo()\n",
        "print('#############################')\n",
        "s4.totalInfo()\n",
        "\n",
        "# Creating Student Number: 1\n",
        "# ----------------------\n",
        "# Naruto is from CSE department.\n",
        "# Serial of Naruto among all students' is: 1\n",
        "# Serial of Naruto in CSE department is: 1\n",
        "# #############################\n",
        "# Total Number of Student: 1\n",
        "# Total Number of CSE Student: 1\n",
        "# Total Number of BBA Student: 0\n",
        "# ============================\n",
        "# Creating Student Number: 2\n",
        "# ----------------------\n",
        "# Sakura is from BBA department.\n",
        "# Serial of Sakura among all students' is: 2\n",
        "# Serial of Sakura in BBA department is: 1\n",
        "# #############################\n",
        "# Total Number of Student: 2\n",
        "# Total Number of CSE Student: 1\n",
        "# Total Number of BBA Student: 1\n",
        "# ============================\n",
        "# Creating Student Number: 3\n",
        "# ----------------------\n",
        "# Shikamaru is from CSE department.\n",
        "# Serial of Shikamaru among all students' is: 3\n",
        "# Serial of Shikamaru in CSE department is: 2\n",
        "# #############################\n",
        "# Total Number of Student: 3\n",
        "# Total Number of CSE Student: 2\n",
        "# Total Number of BBA Student: 1\n",
        "# ============================\n",
        "# Creating Student Number: 4\n",
        "# ----------------------\n",
        "# Deidara is from BBA department.\n",
        "# Serial of Deidara among all students' is: 4\n",
        "# Serial of Deidara in BBA department is: 2\n",
        "# #############################\n",
        "# Total Number of Student: 4\n",
        "# Total Number of CSE Student: 2\n",
        "# Total Number of BBA Student: 2\n"
      ],
      "metadata": {
        "colab": {
          "base_uri": "https://localhost:8080/",
          "height": 133
        },
        "id": "_U5C5ioyf9Wh",
        "outputId": "e9609459-a29b-4c35-89ff-7a4cc4df9d58"
      },
      "execution_count": null,
      "outputs": [
        {
          "output_type": "error",
          "ename": "IndentationError",
          "evalue": "ignored",
          "traceback": [
            "\u001b[0;36m  File \u001b[0;32m\"<ipython-input-49-95322dbb8aa2>\"\u001b[0;36m, line \u001b[0;32m17\u001b[0m\n\u001b[0;31m    s1 = Student(\"Naruto\", \"CSE\")\u001b[0m\n\u001b[0m    ^\u001b[0m\n\u001b[0;31mIndentationError\u001b[0m\u001b[0;31m:\u001b[0m expected an indented block\n"
          ]
        }
      ]
    },
    {
      "cell_type": "code",
      "source": [
        "from sre_constants import CATEGORY_UNI_NOT_DIGIT\n",
        "import collections\n",
        "args=(\"CSE111\",83.5,\"CSE230\",73.0,\"CSE260\",92.5)\n",
        "m=[]\n",
        "n=[]\n",
        "o = {}\n",
        "count=0\n",
        "for i in args :\n",
        "    if type(i)==str:\n",
        "        m.append(i)\n",
        "    else:\n",
        "        n.append(i)\n",
        "for i in m:\n",
        "  for j in n:\n",
        "    count_j=0\n",
        "    o.update({i:j})\n",
        "    count_j+=1\n",
        "# for i in m:\n",
        "#   for key in o.keys():\n",
        "#     if i in m:\n",
        "#       o[]\n",
        "\n",
        "\n",
        "#print(value_count)\n",
        "print(m)\n",
        "print(n)\n",
        "print(o)"
      ],
      "metadata": {
        "id": "5KqvNZr4YNic",
        "colab": {
          "base_uri": "https://localhost:8080/"
        },
        "outputId": "e0e0dd6c-3ff9-4f92-ecf6-b941040571ca"
      },
      "execution_count": null,
      "outputs": [
        {
          "output_type": "stream",
          "name": "stdout",
          "text": [
            "['CSE111', 'CSE230', 'CSE260']\n",
            "[83.5, 73.0, 92.5]\n",
            "{'CSE111': 92.5, 'CSE230': 92.5, 'CSE260': 92.5}\n"
          ]
        }
      ]
    },
    {
      "cell_type": "code",
      "source": [
        "\n",
        "Details = {}\n",
        "Details[\"Age\"] = [20]\n",
        "print(Details)"
      ],
      "metadata": {
        "colab": {
          "base_uri": "https://localhost:8080/"
        },
        "id": "Es3a6t4PP8vf",
        "outputId": "d6b67040-8b41-492f-f938-d5e20ce6a2b3"
      },
      "execution_count": null,
      "outputs": [
        {
          "output_type": "stream",
          "name": "stdout",
          "text": [
            "{'Age': [20]}\n"
          ]
        }
      ]
    },
    {
      "cell_type": "code",
      "source": [
        "#task1\n",
        "a=input(\"\")\n",
        "b=input(\"\")\n",
        "x=a+b\n",
        "print(x)\n"
      ],
      "metadata": {
        "id": "EfJcmUUHMGXf"
      },
      "execution_count": null,
      "outputs": []
    },
    {
      "cell_type": "code",
      "source": [
        "class Human:\n",
        "    def __init__(self):\n",
        "        self.age = 0\n",
        "        self.height = 0.0\n",
        "\n",
        "\n",
        "h1 = Human()\n",
        "h2 = Human()\n",
        "h1.age = 21\n",
        "h1.height = 5.5\n",
        "print(h1.age)\n",
        "print(h1.height)\n",
        "h2.height = h1.height - 3\n",
        "print(h2.height)\n",
        "h2.age = h1.age\n",
        "h1.age += h1.age\n",
        "print(h1.age)\n",
        "h2 = h1\n",
        "print(h2.age)\n",
        "print(h2.height)\n",
        "h1.age += h1.age\n",
        "h2.height += h2.height\n",
        "print(h1.age)\n",
        "print(h1.height)\n",
        "h2.age += h2.age\n",
        "h1.age = h2.age\n",
        "print(h2.age)\n",
        "\n"
      ],
      "metadata": {
        "colab": {
          "base_uri": "https://localhost:8080/"
        },
        "id": "ATtEp3FPGIyK",
        "outputId": "5de087cc-68a6-43d5-d6dc-2df4b1f6a4d1"
      },
      "execution_count": null,
      "outputs": [
        {
          "output_type": "stream",
          "name": "stdout",
          "text": [
            "21\n",
            "5.5\n",
            "2.5\n",
            "42\n",
            "42\n",
            "5.5\n",
            "84\n",
            "11.0\n",
            "168\n"
          ]
        }
      ]
    },
    {
      "cell_type": "code",
      "source": [
        "def add_time(start, duration, expecting_weekday = False):\n",
        "    start_hour, start_min = start.split(\":\")\n",
        "    start_min, suffix = start_min.split(\" \")\n",
        "    days_later = 0\n",
        "\n",
        "    full_day = 24\n",
        "    half_day = 12\n",
        "\n",
        "    # end times\n",
        "    duration_hr, duration_min = duration.split(\":\")\n",
        "\n",
        "    # updated times\n",
        "    start_hour = int(start_hour)\n",
        "    start_min = int(start_min)\n",
        "    duration_hr = int(duration_hr)\n",
        "    duration_min = int(duration_min)\n",
        "\n",
        "    # days array\n",
        "    week_days = [\"sunday\", \"monday\", \"tuesday\", \"wednesday\", \"thursday\", \"friday\", \"saturday\"]\n",
        "\n",
        "    # total time count\n",
        "    new_hr = start_hour + duration_hr\n",
        "    new_min = start_min + duration_min\n",
        "\n",
        "    # time calculation\n",
        "    if new_min >= 60:\n",
        "        new_hr += new_min // 60\n",
        "        new_min = new_min % 60\n",
        "\n",
        "    if duration_hr or duration_min:\n",
        "        # AM/PM selection\n",
        "        # increase day if total_hr >= 24\n",
        "        if (suffix == 'PM' and new_hr > full_day) and (new_hr % full_day) >= 1:\n",
        "            days_later += 1\n",
        "\n",
        "        if new_hr >= half_day:\n",
        "            days_later += new_hr // full_day\n",
        "\n",
        "        # adjusting the suffix\n",
        "        temp = new_hr\n",
        "        while True:\n",
        "            if temp < half_day:\n",
        "                break\n",
        "\n",
        "            if suffix == \"AM\":\n",
        "                suffix = \"PM\"\n",
        "            else:\n",
        "                suffix = \"AM\"\n",
        "\n",
        "            temp -= half_day\n",
        "\n",
        "    # remaining hours and minutes\n",
        "    hours_left = new_hr % half_day\n",
        "    mins_left = new_min % 60\n",
        "\n",
        "    # preparing the output\n",
        "    final_time = f\"{hours_left}:{mins_left:02} {suffix}\"\n",
        "\n",
        "    if expecting_weekday:\n",
        "        weekday = expecting_weekday.strip().lower()\n",
        "        current_day_index = (week_days.index(weekday) + days_later) % 7\n",
        "        current_day = week_days[current_day_index].capitalize()\n",
        "        final_time += f\", {current_day} {get_current_weekday(days_later)}\"\n",
        "\n",
        "    return final_time\n",
        "\n",
        "def get_current_weekday(n_days):\n",
        "    if n_days == 1:\n",
        "        return \"(next day)\"\n",
        "    elif n_days > 1:\n",
        "        return f\"({n_days} days later)\"\n",
        "    return \"\"\n",
        "\n",
        "print(add_time(\"11:30 AM\", \"2:32\", \"Monday\"))"
      ],
      "metadata": {
        "colab": {
          "base_uri": "https://localhost:8080/"
        },
        "id": "CZk5x9q-MPcb",
        "outputId": "19598c28-f3eb-4863-cee3-abb64959c967"
      },
      "execution_count": null,
      "outputs": [
        {
          "output_type": "stream",
          "name": "stdout",
          "text": [
            "2:02 PM, Monday \n"
          ]
        }
      ]
    },
    {
      "cell_type": "code",
      "source": [
        "\n",
        "#sample input => HOusE ApplE BaNaNa\n",
        "\n",
        "given_string = \"HOuSE\" #I could also use input() to get the string from user input. But as the question says GIVEN, I use the hardcode way\n",
        "upper_count = 0\n",
        "lower_count = 0\n",
        "\n",
        "for char in given_string:\n",
        "  if char>='a' and char <='z':\n",
        "    lower_count+=1\n",
        "  elif char>='A' and char <='Z': #I could just use else, but prefer to use specific conditon\n",
        "    upper_count+=1\n",
        "\n",
        "if lower_count>=upper_count:\n",
        "  print(given_string.lower())\n",
        "else:\n",
        "  print(given_string.upper())"
      ],
      "metadata": {
        "colab": {
          "base_uri": "https://localhost:8080/"
        },
        "id": "-2sZ_W7Uhbra",
        "outputId": "33067c58-cd16-461a-f49d-492577139e90"
      },
      "execution_count": null,
      "outputs": [
        {
          "output_type": "stream",
          "name": "stdout",
          "text": [
            "HOUSE\n"
          ]
        }
      ]
    },
    {
      "cell_type": "code",
      "source": [
        "class Student:\n",
        "    def __init__(self):\n",
        "        self.name = None\n",
        "        self.cgpa = 0.0\n",
        "s1 = Student()\n",
        "s2 = Student()\n",
        "s3 = None\n",
        "s1.name = \"Student One\"\n",
        "s1.cgpa = 2.3\n",
        "s3 = s1\n",
        "s2.name = \"Student Two\"\n",
        "s2.cgpa = s3.cgpa + 1\n",
        "s3.name = \"New Student\"\n",
        "print(s1.name)\n",
        "print(s2.name)\n",
        "print(s3.name)\n",
        "print(s1.cgpa)\n",
        "print(s2.cgpa)\n",
        "print(s3.cgpa)\n",
        "s3 = s2\n",
        "s1.name = \"old student\"\n",
        "s2.name = \"older student\"\n",
        "s3.name = \"oldest student\"\n",
        "s2.cgpa = s1.cgpa - s3.cgpa + 4.5\n",
        "print(s1.name)\n",
        "print(s2.name)\n",
        "print(s3.name)\n",
        "print(s1.cgpa)\n",
        "print(s2.cgpa)\n",
        "print(s3.cgpa)\n",
        "\n",
        "\n"
      ],
      "metadata": {
        "colab": {
          "base_uri": "https://localhost:8080/"
        },
        "id": "aTG8WtHEIn-7",
        "outputId": "e44b77e6-f8f3-40cd-fe1a-a33bbe50eb83"
      },
      "execution_count": null,
      "outputs": [
        {
          "output_type": "stream",
          "name": "stdout",
          "text": [
            "New Student\n",
            "Student Two\n",
            "New Student\n",
            "2.3\n",
            "3.3\n",
            "2.3\n",
            "old student\n",
            "oldest student\n",
            "oldest student\n",
            "2.3\n",
            "3.5\n",
            "3.5\n"
          ]
        }
      ]
    },
    {
      "cell_type": "code",
      "source": [
        "class msgClass:\n",
        "    def __init__(self):\n",
        "        self.content = 0\n",
        "class Q5:\n",
        "    def __init__(self):\n",
        "        self.sum = 1\n",
        "        self.x = 2\n",
        "        self.y = 3\n",
        "    def methodA(self):\n",
        "        x, y = 1, 1\n",
        "        msg = []\n",
        "        myMsg = msgClass()\n",
        "        myMsg.content = self.x\n",
        "        msg.append(myMsg)\n",
        "        msg[0].content = self.y + myMsg.content\n",
        "        self.y = self.y + self.methodB(msg[0])\n",
        "        y = self.methodB(msg[0]) + self.y\n",
        "        x = y + self.methodB(msg[0], msg)\n",
        "        self.sum = x + y + msg[0].content\n",
        "        print(x,\" \", y,\" \", self.sum)\n",
        "    def methodB(self, mg1, mg2 = None):\n",
        "        if mg2 == None:\n",
        "            x, y = 5, 6\n",
        "            y = self.sum + mg1.content\n",
        "            self.y = y + mg1.content\n",
        "            x = self.x + 7 +mg1.content\n",
        "            self.sum = self.sum + x + y\n",
        "            self.x = mg1.content + x +8\n",
        "            print(x, \" \", y,\" \", self.sum)\n",
        "            return y\n",
        "\n",
        "        else:\n",
        "            x = 1\n",
        "            self.y += mg2[0].content\n",
        "            mg2[0].content = self.y + mg1.content\n",
        "            x = x + 4 + mg1.content\n",
        "            self.sum += x + self.y\n",
        "            mg1.content = self.sum - mg2[0].content\n",
        "            print(self.x, \" \",self.y,\" \", self.sum)\n",
        "            return self.sum\n",
        "\n"
      ],
      "metadata": {
        "id": "mm-v8HFcKhRE"
      },
      "execution_count": null,
      "outputs": []
    },
    {
      "cell_type": "code",
      "source": [
        "msg=[5]\n",
        "for i in msg:\n",
        " print(i)"
      ],
      "metadata": {
        "colab": {
          "base_uri": "https://localhost:8080/"
        },
        "id": "EyvDJZdhOutQ",
        "outputId": "c6f84504-92e2-4545-d099-7bb82989a186"
      },
      "execution_count": null,
      "outputs": [
        {
          "output_type": "stream",
          "name": "stdout",
          "text": [
            "5\n"
          ]
        }
      ]
    },
    {
      "cell_type": "code",
      "source": [
        "x=int(input(\"Enter amount:\"))\n",
        "def splitting_money(x):\n",
        "\n",
        "    fhn=x//500\n",
        "    ohn=x//100\n",
        "    fon=x//50\n",
        "    t0n=x//20\n",
        "    o0n=x//10\n",
        "    fn=x//5\n",
        "    tn=x//2\n",
        "    return fhn,ohn,fon,t0n,o0n,fn,tn\n",
        "\n",
        "\n",
        "\n",
        "print(splitting_money(x))"
      ],
      "metadata": {
        "colab": {
          "base_uri": "https://localhost:8080/"
        },
        "id": "GEa1I6q-BPpi",
        "outputId": "fc4f0ff5-2f1c-4950-8db8-e3861281f6d5"
      },
      "execution_count": null,
      "outputs": [
        {
          "output_type": "stream",
          "name": "stdout",
          "text": [
            "Enter amount:1234\n",
            "(2, 34, 34, 61, 123, 246, 617)\n"
          ]
        }
      ]
    },
    {
      "cell_type": "code",
      "source": [
        "#Write a python program that prints all the Fibonacci numbers from 0 to N where N will be given\n",
        "#as input by the user.\n",
        "#A Fibonacci number is a number which is the summation of its previous two Fibonacci\n",
        "#numbers.\n",
        "#The first two Fibonacci numbers are 0 and 1.\n",
        "#So, the 3rd is 0 + 1 = 1,the 4th is 1 + 1 = 2,the 5th is 1 + 2 = 3,the 6th one is 2 + 3 = 5, and so on.i.e. 0, 1, 1, 2, 3, 5, 8, 13, 21.......\n",
        "#Sample Input 1:\n",
        "#10\n",
        "#Sample Output 1:\n",
        "#0 1 1 2 3 5 8\n",
        "#Explanation: All Fibonacci numbers up to the number 10 is printed separated by spaces.\n",
        "\n",
        "# Program to display the Fibonacci sequence up to n-th term\n",
        "\n",
        "nterms = int(input(\"How many terms? \"))\n",
        "\n",
        "# first two terms\n",
        "n1, n2 = 0, 1\n",
        "count = 0\n",
        "\n",
        "# check if the number of terms is valid\n",
        "if nterms <= 0:\n",
        "   print(\"Please enter a positive integer\")\n",
        "# if there is only one term, return n1\n",
        "elif nterms == 1:\n",
        "   print(\"Fibonacci sequence upto\",nterms,\":\")\n",
        "   print(n1)\n",
        "# generate fibonacci sequence\n",
        "else:\n",
        "   print(\"Fibonacci sequence:\")\n",
        "   while count < nterms:\n",
        "\n",
        "       nth = n1 + n2\n",
        "       # update values\n",
        "       n1 = n2\n",
        "       n2 = nth\n",
        "       count += 1\n",
        "       print(n1)\n"
      ],
      "metadata": {
        "id": "nU4roU4lBPsq",
        "colab": {
          "base_uri": "https://localhost:8080/"
        },
        "outputId": "d1935438-f211-44a0-c51c-a6d83f871b77"
      },
      "execution_count": null,
      "outputs": [
        {
          "output_type": "stream",
          "name": "stdout",
          "text": [
            "How many terms? 1\n",
            "Fibonacci sequence upto 1 :\n",
            "0\n"
          ]
        }
      ]
    },
    {
      "cell_type": "code",
      "source": [
        "x=int(input(''))\n",
        "while True:\n",
        "  m=x//2\n",
        "  n=m//2\n",
        "  o=n//2\n",
        "  p=o//2\n",
        "  z=m,n,o,p\n",
        "  break\n",
        "print(z)"
      ],
      "metadata": {
        "id": "c1JbtYHXBPu8",
        "colab": {
          "base_uri": "https://localhost:8080/"
        },
        "outputId": "37d8d346-f8ca-45f1-c9ec-b1c366edd54f"
      },
      "execution_count": null,
      "outputs": [
        {
          "output_type": "stream",
          "name": "stdout",
          "text": [
            "11\n",
            "(1, 0, 0, 0)\n"
          ]
        }
      ]
    },
    {
      "cell_type": "code",
      "source": [
        "num = int(input(\"\"))\n",
        "result = ''\n",
        "\n",
        "while num!=0:\n",
        "  bin_value = num%2\n",
        "  num//=2\n",
        "  result+=str(bin_value)\n",
        "print(result[::-1])"
      ],
      "metadata": {
        "id": "9TrSdW3kBPx1",
        "colab": {
          "base_uri": "https://localhost:8080/"
        },
        "outputId": "8744e1ec-7373-4e2e-df3d-744bd24360a2"
      },
      "execution_count": null,
      "outputs": [
        {
          "output_type": "stream",
          "name": "stdout",
          "text": [
            "12\n",
            "1100\n"
          ]
        }
      ]
    },
    {
      "cell_type": "code",
      "source": [],
      "metadata": {
        "id": "tSD-mmNoBP04"
      },
      "execution_count": null,
      "outputs": []
    },
    {
      "cell_type": "code",
      "source": [],
      "metadata": {
        "id": "lZf65gm_BQAY"
      },
      "execution_count": null,
      "outputs": []
    },
    {
      "cell_type": "code",
      "source": [],
      "metadata": {
        "id": "5y2lIA7OBQJw"
      },
      "execution_count": null,
      "outputs": []
    },
    {
      "cell_type": "markdown",
      "source": [
        "TASK 8"
      ],
      "metadata": {
        "id": "V4WV0IbZsbuQ"
      }
    },
    {
      "cell_type": "code",
      "source": [
        "number = i = int(input('Enter a number = '))\n",
        "remainder1 = j = i%2\n",
        "remainder2 = k = i%5\n",
        "\n",
        "if  j== 0 and k== 0 :\n",
        "  print (i)\n",
        "else :\n",
        "  print(\"Not multiple of 2 and 5 both \")"
      ],
      "metadata": {
        "id": "8WOqapWYsdm2",
        "colab": {
          "base_uri": "https://localhost:8080/"
        },
        "outputId": "99e93cc1-c40a-40eb-9fd4-fe4aa86b93d4"
      },
      "execution_count": null,
      "outputs": [
        {
          "output_type": "stream",
          "name": "stdout",
          "text": [
            "Enter a number = 10\n",
            "10\n"
          ]
        }
      ]
    },
    {
      "cell_type": "markdown",
      "source": [
        "TASK 16"
      ],
      "metadata": {
        "id": "SQ2VJx87byv5"
      }
    },
    {
      "cell_type": "code",
      "source": [],
      "metadata": {
        "id": "K51eVWwab0vt"
      },
      "execution_count": null,
      "outputs": []
    },
    {
      "cell_type": "markdown",
      "source": [
        "TASK 12"
      ],
      "metadata": {
        "id": "97erpR1BA8lw"
      }
    },
    {
      "cell_type": "code",
      "source": [
        "time = x = int(input(\"What time is it ?:\"))\n",
        "\n",
        "if x>=4 and x<=6:\n",
        "    print(\"Breakfast\")\n",
        "elif x >= 12 and x<=13:\n",
        "    print(\"Lunch\")\n",
        "elif x>=16 and x<=17:\n",
        "    print(\"Snacks\")\n",
        "elif x>=19 and x<=20:\n",
        "    print(\"Dinner\")\n",
        "elif x < 0 or x > 23 :\n",
        "  print(\"wrong time\")\n",
        "else :\n",
        "  print(\"Patience is virtue\")\n"
      ],
      "metadata": {
        "colab": {
          "base_uri": "https://localhost:8080/"
        },
        "id": "toeR6UqJA-zB",
        "outputId": "21f0c664-d81e-44f3-b731-3aced2758953"
      },
      "execution_count": null,
      "outputs": [
        {
          "output_type": "stream",
          "name": "stdout",
          "text": [
            "What time is it ?:30\n",
            "wrong time\n"
          ]
        }
      ]
    },
    {
      "cell_type": "markdown",
      "source": [
        "TASK 9"
      ],
      "metadata": {
        "id": "ffPYCG6mSMFy"
      }
    },
    {
      "cell_type": "code",
      "source": [
        "seconds = x = int(input())\n",
        "\n",
        "hours = x // 3600\n",
        "minutes = x // 60\n",
        "seconds = (x % 3600) % 60\n",
        "\n",
        "\n",
        "print(\"Hours\", (hours),\"Minutes\", (minutes), \"Seconds:\", (seconds))\n",
        "\n"
      ],
      "metadata": {
        "colab": {
          "base_uri": "https://localhost:8080/"
        },
        "id": "eL0efsbw6jkG",
        "outputId": "53e285cf-ea8d-4446-e6d4-b411262cc8a6"
      },
      "execution_count": null,
      "outputs": [
        {
          "output_type": "stream",
          "name": "stdout",
          "text": [
            "508\n",
            "Hours 0 Minutes 8 Seconds: 28\n"
          ]
        }
      ]
    },
    {
      "cell_type": "code",
      "source": [
        "print(3700% 3600)"
      ],
      "metadata": {
        "colab": {
          "base_uri": "https://localhost:8080/"
        },
        "id": "n2_qtjh44Q6s",
        "outputId": "c3705c17-79c4-42ac-f6b0-90310d43cabb"
      },
      "execution_count": null,
      "outputs": [
        {
          "output_type": "stream",
          "name": "stdout",
          "text": [
            "100\n"
          ]
        }
      ]
    },
    {
      "cell_type": "markdown",
      "source": [
        "TASK 10"
      ],
      "metadata": {
        "id": "qZyZ0CXy998f"
      }
    },
    {
      "cell_type": "code",
      "source": [
        "worked_hours = x = int(input(\"Enter number of Hours worked :\"))\n",
        "\n",
        "if x > 40 and x < 168 :\n",
        "  z = 8000+(300)*(x - 40)\n",
        "  print(\"Tk\",z)\n",
        "if x <=40 and x >0 :\n",
        "  z = 200*(x)\n",
        "  print(\"Tk\",z)\n",
        "\n",
        "else:\n",
        " if x > 168 :\n",
        "  print (\"Impossible to work more than 168 hours weekly\")\n",
        " if x < 0 :\n",
        "  print(\"Hours cannot be negative\")\n",
        "\n",
        "\n"
      ],
      "metadata": {
        "colab": {
          "base_uri": "https://localhost:8080/"
        },
        "id": "lQ9UM44H9_4w",
        "outputId": "e1aa0d25-8664-4de1-ea80-86b914b0d2aa"
      },
      "execution_count": null,
      "outputs": [
        {
          "output_type": "stream",
          "name": "stdout",
          "text": [
            "Enter number of Hours worked :1\n",
            "Tk 200\n"
          ]
        }
      ]
    },
    {
      "cell_type": "markdown",
      "source": [
        "TASK 14\n"
      ],
      "metadata": {
        "id": "s5I3BM4TEfzx"
      }
    },
    {
      "cell_type": "code",
      "source": [
        "distance = x = int(input('distance :'))\n",
        "time = y = int(input('time :'))\n",
        "speed = z\n",
        "\n",
        "z= (x/y)*3.6\n",
        "print(z,'km/h')\n",
        "\n",
        "if z < 60 :\n",
        "  print ('Too slow. Needs more changes.')\n",
        "elif z >= 60 and z <=90 :\n",
        "  print ('Velocity is okay. The car is ready!')\n",
        "elif z > 90 :\n",
        "  print('Too fast. Only a few changes should suffice.')\n",
        "\n"
      ],
      "metadata": {
        "colab": {
          "base_uri": "https://localhost:8080/"
        },
        "id": "nVsKQmGUEkiC",
        "outputId": "08871da8-e17e-4a5c-92ef-20f18e26c566"
      },
      "execution_count": null,
      "outputs": [
        {
          "output_type": "stream",
          "name": "stdout",
          "text": [
            "distance :160000\n",
            "time :7200\n",
            "80.0 km/h\n",
            "Velocity is okay. The car is ready!\n"
          ]
        }
      ]
    },
    {
      "cell_type": "markdown",
      "source": [
        "TASK 15"
      ],
      "metadata": {
        "id": "Hxykg5UlNEjh"
      }
    },
    {
      "cell_type": "code",
      "source": [
        "cgpa = x = float(input())\n",
        "cred = y = int(input())\n",
        "\n",
        "if y < 30 :\n",
        "  print(\"The student is not eligible for a waiver\")\n",
        "\n",
        "else :\n",
        " if x < 3.8 :\n",
        "  print(\"The student is not eligible for a waiver\")\n",
        " if x >= 3.8 and x <=3.89 :\n",
        "  print(\"The student is eligible for a waiver of 25 percent.\")\n",
        " if x >= 3.9 and x <= 3.94 :\n",
        "  print('The student is eligible for a waiver of 50 percent.')\n",
        " if x >= 3.95 and x <= 3.99 :\n",
        "  print('The student is eligible for a waiver of 75 percent.')\n",
        " if x == 4:\n",
        "  print('The student is eligible for a waiver of 100 percent.')\n",
        "\n",
        "\n"
      ],
      "metadata": {
        "colab": {
          "base_uri": "https://localhost:8080/"
        },
        "id": "H-pIfleANGaE",
        "outputId": "fd20f0e3-73bf-4ef5-d59a-402fb4001957"
      },
      "execution_count": null,
      "outputs": [
        {
          "output_type": "stream",
          "name": "stdout",
          "text": [
            "4.0\n",
            "60\n",
            "The student is eligible for a waiver of 100 percent.\n"
          ]
        }
      ]
    },
    {
      "cell_type": "markdown",
      "source": [
        "TASK 13\n"
      ],
      "metadata": {
        "id": "gB2xr3fjSeZN"
      }
    },
    {
      "cell_type": "code",
      "source": [
        "marks = x = int(input('Enter marks :'))\n",
        "if x < 50 and x >= 0 :\n",
        "  print (\"F\")\n",
        "elif x>=50 and x<=59 :\n",
        "  print (\"E\")\n",
        "elif x>=60 and x<=69:\n",
        "  print(\"D\")\n",
        "elif x>=70 and x<=79:\n",
        "  print(\"C\")\n",
        "elif x>=80 and x<=89:\n",
        "  print(\"B\")\n",
        "if x>=90 and x<=100:\n",
        "  print(\"A\")\n",
        "elif x < 0 or x > 100 :\n",
        "  print (\"invalid marks\")\n"
      ],
      "metadata": {
        "colab": {
          "base_uri": "https://localhost:8080/"
        },
        "id": "lf5GnRgTSf8u",
        "outputId": "ce9f205a-c6d4-42a3-9131-b61083872d98"
      },
      "execution_count": null,
      "outputs": [
        {
          "output_type": "stream",
          "name": "stdout",
          "text": [
            "Enter marks :0\n",
            "F\n"
          ]
        }
      ]
    },
    {
      "cell_type": "code",
      "source": [
        "marks = int(input(\"\"))\n",
        "\n",
        "if marks>=90 and marks<=100:\n",
        "  print('A')\n",
        "elif marks>=80 and marks<=89:\n",
        "  print('B')\n",
        "elif marks>=70 and marks<=79:\n",
        "  print('C')\n",
        "elif marks>=60 and marks<=69:\n",
        "  print('D')\n",
        "elif marks>=50 and marks<=59:\n",
        "  print('E')\n",
        "elif marks<50:\n",
        "  print('F')\n",
        "else:\n",
        "  print('Please Enter a valid number between 0 and 100.')"
      ],
      "metadata": {
        "colab": {
          "base_uri": "https://localhost:8080/"
        },
        "id": "m0LEePOcaZG3",
        "outputId": "b35df1d5-71d8-487e-a3c2-1af212287901"
      },
      "execution_count": null,
      "outputs": [
        {
          "output_type": "stream",
          "name": "stdout",
          "text": [
            "101\n",
            "Please Enter a valid number between 0 and 100.\n"
          ]
        }
      ]
    },
    {
      "cell_type": "markdown",
      "source": [
        "TASK 11\n"
      ],
      "metadata": {
        "id": "UPvs5x-XapLc"
      }
    },
    {
      "cell_type": "code",
      "source": [
        "s = int(input(\"S : \"))\n",
        "if s < 100 :\n",
        "  L = 3000-125*s**2\n",
        "  print(\"L :\",L)\n",
        "elif s >= 100 :\n",
        "  y = 4+s**2/14900\n",
        "  L = 12000/y\n",
        "  print(\"L :\",L)"
      ],
      "metadata": {
        "id": "UFLEXdylas_g",
        "colab": {
          "base_uri": "https://localhost:8080/"
        },
        "outputId": "c85c5ce7-cdd6-424c-af4e-ef81b47cdb02"
      },
      "execution_count": null,
      "outputs": [
        {
          "output_type": "stream",
          "name": "stdout",
          "text": [
            "S : 3\n",
            "L : 1875\n"
          ]
        }
      ]
    }
  ],
  "metadata": {
    "colab": {
      "provenance": []
    },
    "kernelspec": {
      "display_name": "Python 3",
      "name": "python3"
    },
    "language_info": {
      "name": "python"
    }
  },
  "nbformat": 4,
  "nbformat_minor": 0
}